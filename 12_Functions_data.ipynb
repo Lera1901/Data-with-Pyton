{
  "nbformat": 4,
  "nbformat_minor": 0,
  "metadata": {
    "colab": {
      "provenance": [],
      "authorship_tag": "ABX9TyNEsSP5pzM7rkM+MHjuGSvU",
      "include_colab_link": true
    },
    "kernelspec": {
      "name": "python3",
      "display_name": "Python 3"
    },
    "language_info": {
      "name": "python"
    }
  },
  "cells": [
    {
      "cell_type": "markdown",
      "metadata": {
        "id": "view-in-github",
        "colab_type": "text"
      },
      "source": [
        "<a href=\"https://colab.research.google.com/github/Lera1901/Data-with-Pyton/blob/main/12_Functions_data.ipynb\" target=\"_parent\"><img src=\"https://colab.research.google.com/assets/colab-badge.svg\" alt=\"Open In Colab\"/></a>"
      ]
    },
    {
      "cell_type": "markdown",
      "source": [
        "Exercise 1"
      ],
      "metadata": {
        "id": "uVlZBtd5JH-K"
      }
    },
    {
      "cell_type": "code",
      "source": [
        "from datetime import datetime\n",
        "def get_datetime_now():\n",
        "  now_date_time = datetime.now()\n",
        "  return now_date_time\n",
        "print(get_datetime_now())"
      ],
      "metadata": {
        "colab": {
          "base_uri": "https://localhost:8080/"
        },
        "id": "yWLrSZ7vJKk3",
        "outputId": "fb07c1da-04a2-4ec7-fcc7-b83c36acaadb"
      },
      "execution_count": 12,
      "outputs": [
        {
          "output_type": "stream",
          "name": "stdout",
          "text": [
            "2023-10-11 19:16:04.487695\n"
          ]
        }
      ]
    },
    {
      "cell_type": "markdown",
      "source": [
        "Exercise 2"
      ],
      "metadata": {
        "id": "GHGLMY56K4Zx"
      }
    },
    {
      "cell_type": "code",
      "source": [
        "from datetime import datetime\n",
        "def get_current_year():\n",
        "  now_year = datetime.now().year\n",
        "  return now_year\n",
        "print(get_current_year())"
      ],
      "metadata": {
        "colab": {
          "base_uri": "https://localhost:8080/"
        },
        "id": "zlaz7BbLK6gU",
        "outputId": "bde0c4f9-3d8b-4e06-cef3-644f6e87e281"
      },
      "execution_count": 13,
      "outputs": [
        {
          "output_type": "stream",
          "name": "stdout",
          "text": [
            "2023\n"
          ]
        }
      ]
    },
    {
      "cell_type": "markdown",
      "source": [
        "Exercise 3"
      ],
      "metadata": {
        "id": "HPuQtTf4LeJ6"
      }
    },
    {
      "cell_type": "code",
      "source": [
        "from datetime import datetime\n",
        "def get_day_of_week():\n",
        "  day = datetime.now().strftime(\"%A\")\n",
        "  return day\n",
        "print(get_day_of_week())"
      ],
      "metadata": {
        "colab": {
          "base_uri": "https://localhost:8080/"
        },
        "id": "jpu7V51tLgWA",
        "outputId": "47acb62f-b447-44c2-d4ac-2357fc074a91"
      },
      "execution_count": 17,
      "outputs": [
        {
          "output_type": "stream",
          "name": "stdout",
          "text": [
            "Wednesday\n"
          ]
        }
      ]
    },
    {
      "cell_type": "markdown",
      "source": [
        "Exercise 4"
      ],
      "metadata": {
        "id": "IWC21MPlM_eK"
      }
    },
    {
      "cell_type": "code",
      "source": [
        "from datetime import datetime\n",
        "def data(day,month,year):\n",
        "\n",
        "   new_date = datetime(year, month, day)\n",
        "   return new_date\n",
        "\n",
        "day = 11\n",
        "month = 10\n",
        "year = 2024\n",
        "new_date = data(day, month, year)\n",
        "if new_date:\n",
        "    print(\"New date:\", new_date)\n",
        "else:\n",
        "    print(\"Invalid date. Please provide a valid date.\")\n"
      ],
      "metadata": {
        "colab": {
          "base_uri": "https://localhost:8080/"
        },
        "id": "PdIxuLrTNCZ5",
        "outputId": "7ba21090-5f15-4f98-a51d-ce33b60dd212"
      },
      "execution_count": 37,
      "outputs": [
        {
          "output_type": "stream",
          "name": "stdout",
          "text": [
            "New date: 2024-10-11 00:00:00\n"
          ]
        }
      ]
    },
    {
      "cell_type": "markdown",
      "source": [
        "Exercise 5"
      ],
      "metadata": {
        "id": "us-3YCtDR21Q"
      }
    },
    {
      "cell_type": "code",
      "source": [],
      "metadata": {
        "id": "HE7arRotR4zI"
      },
      "execution_count": null,
      "outputs": []
    }
  ]
}