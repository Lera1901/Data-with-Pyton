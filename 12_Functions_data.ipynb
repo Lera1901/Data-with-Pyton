{
  "nbformat": 4,
  "nbformat_minor": 0,
  "metadata": {
    "colab": {
      "provenance": [],
      "authorship_tag": "ABX9TyPjzngQrkn8hid9/NUXeOlO",
      "include_colab_link": true
    },
    "kernelspec": {
      "name": "python3",
      "display_name": "Python 3"
    },
    "language_info": {
      "name": "python"
    }
  },
  "cells": [
    {
      "cell_type": "markdown",
      "metadata": {
        "id": "view-in-github",
        "colab_type": "text"
      },
      "source": [
        "<a href=\"https://colab.research.google.com/github/Lera1901/Data-with-Pyton/blob/main/12_Functions_data.ipynb\" target=\"_parent\"><img src=\"https://colab.research.google.com/assets/colab-badge.svg\" alt=\"Open In Colab\"/></a>"
      ]
    },
    {
      "cell_type": "markdown",
      "source": [
        "Exercise 1"
      ],
      "metadata": {
        "id": "uVlZBtd5JH-K"
      }
    },
    {
      "cell_type": "code",
      "source": [
        "from datetime import datetime\n",
        "def get_datetime_now():\n",
        "  now_date_time = datetime.now()\n",
        "  return now_date_time\n",
        "print(get_datetime_now())"
      ],
      "metadata": {
        "colab": {
          "base_uri": "https://localhost:8080/"
        },
        "id": "yWLrSZ7vJKk3",
        "outputId": "fb07c1da-04a2-4ec7-fcc7-b83c36acaadb"
      },
      "execution_count": 12,
      "outputs": [
        {
          "output_type": "stream",
          "name": "stdout",
          "text": [
            "2023-10-11 19:16:04.487695\n"
          ]
        }
      ]
    },
    {
      "cell_type": "markdown",
      "source": [
        "Exercise 2"
      ],
      "metadata": {
        "id": "GHGLMY56K4Zx"
      }
    },
    {
      "cell_type": "code",
      "source": [
        "from datetime import datetime\n",
        "def get_current_year():\n",
        "  now_year = datetime.now().year\n",
        "  return now_year\n",
        "print(get_current_year())"
      ],
      "metadata": {
        "colab": {
          "base_uri": "https://localhost:8080/"
        },
        "id": "zlaz7BbLK6gU",
        "outputId": "bde0c4f9-3d8b-4e06-cef3-644f6e87e281"
      },
      "execution_count": 13,
      "outputs": [
        {
          "output_type": "stream",
          "name": "stdout",
          "text": [
            "2023\n"
          ]
        }
      ]
    },
    {
      "cell_type": "markdown",
      "source": [
        "Exercise 3"
      ],
      "metadata": {
        "id": "HPuQtTf4LeJ6"
      }
    },
    {
      "cell_type": "code",
      "source": [
        "from datetime import datetime\n",
        "def get_day_of_week():\n",
        "  day = datetime.now().strftime(\"%A\")\n",
        "  return day\n",
        "print(get_day_of_week())"
      ],
      "metadata": {
        "colab": {
          "base_uri": "https://localhost:8080/"
        },
        "id": "jpu7V51tLgWA",
        "outputId": "47acb62f-b447-44c2-d4ac-2357fc074a91"
      },
      "execution_count": 17,
      "outputs": [
        {
          "output_type": "stream",
          "name": "stdout",
          "text": [
            "Wednesday\n"
          ]
        }
      ]
    },
    {
      "cell_type": "markdown",
      "source": [
        "Exercise 4"
      ],
      "metadata": {
        "id": "IWC21MPlM_eK"
      }
    },
    {
      "cell_type": "code",
      "source": [
        "from datetime import datetime\n",
        "def data(day,month,year):\n",
        "\n",
        "   new_date = datetime(year, month, day)\n",
        "   return new_date\n",
        "\n",
        "day = 11\n",
        "month = 10\n",
        "year = 2024\n",
        "new_date = data(day, month, year)\n",
        "if new_date:\n",
        "    print(\"New date:\", new_date)\n",
        "else:\n",
        "    print(\"Invalid date. Please provide a valid date.\")\n"
      ],
      "metadata": {
        "colab": {
          "base_uri": "https://localhost:8080/"
        },
        "id": "PdIxuLrTNCZ5",
        "outputId": "7ba21090-5f15-4f98-a51d-ce33b60dd212"
      },
      "execution_count": 37,
      "outputs": [
        {
          "output_type": "stream",
          "name": "stdout",
          "text": [
            "New date: 2024-10-11 00:00:00\n"
          ]
        }
      ]
    },
    {
      "cell_type": "markdown",
      "source": [
        "Exercise 5"
      ],
      "metadata": {
        "id": "us-3YCtDR21Q"
      }
    },
    {
      "cell_type": "code",
      "source": [
        "def date(day, month, year):\n",
        "\n",
        "    if month < 1 or month > 12:\n",
        "        print(\"Error: Month must be between 1 and 12.\")\n",
        "        return None\n",
        "    days_in_month = [31, 28, 31, 30, 31, 30, 31, 31, 30, 31, 30, 31]\n",
        "    if day < 1 or day > days_in_month[month - 1]:\n",
        "        print(\"Error: Invalid day for the given month .\",month)\n",
        "        return None\n",
        "    valid_date = (day, month, year)\n",
        "    return valid_date\n",
        "\n",
        "day = int(input(\"Enter day\"))\n",
        "month = int(input(\"Enter month\"))\n",
        "year = int(input(\"Enter year\"))\n",
        "\n",
        "result = date(day, month, year)\n",
        "if result is not None:\n",
        "    print(\"Valid date: \", result[2],\"/\",result[1],\"/\",result[0])\n"
      ],
      "metadata": {
        "colab": {
          "base_uri": "https://localhost:8080/"
        },
        "id": "HE7arRotR4zI",
        "outputId": "51784f82-9710-4b30-8e49-2e1ffea7d193"
      },
      "execution_count": 59,
      "outputs": [
        {
          "output_type": "stream",
          "name": "stdout",
          "text": [
            "Enter day15\n",
            "Enter month10\n",
            "Enter year2023\n",
            "Valid date:  2023 / 10 / 15\n"
          ]
        }
      ]
    },
    {
      "cell_type": "markdown",
      "source": [
        "Exercise 6"
      ],
      "metadata": {
        "id": "ghA5M4Lw_HUz"
      }
    },
    {
      "cell_type": "code",
      "source": [
        "from datetime import datetime\n",
        "def is_leap_year(year):\n",
        "     year=datetime.now().year\n",
        "     if year % 4 == 0:\n",
        "       if year % 100 == 0:\n",
        "         return year % 400 == 0\n",
        "       return True\n",
        "     return False\n",
        "if is_leap_year(year):\n",
        "    print(f\"{year} is a leap year.\")\n",
        "else:\n",
        "    print(f\"{year} is not a leap year.\")\n",
        "\n",
        "\n"
      ],
      "metadata": {
        "colab": {
          "base_uri": "https://localhost:8080/"
        },
        "id": "j4PYdvAB_KaG",
        "outputId": "808f685d-5269-4e8b-e86e-b9ef3edfd542"
      },
      "execution_count": 108,
      "outputs": [
        {
          "output_type": "stream",
          "name": "stdout",
          "text": [
            "2023 is not a leap year.\n"
          ]
        }
      ]
    },
    {
      "cell_type": "markdown",
      "source": [
        "Exercise 7"
      ],
      "metadata": {
        "id": "7I7Tg1n5GaMi"
      }
    },
    {
      "cell_type": "code",
      "source": [
        "from datetime import datetime\n",
        "def get_datetime_now():\n",
        " x = datetime.now()\n",
        " print(x)\n",
        " print(x.strftime(\"%Y\"))\n",
        " print(x.strftime(\"%m\"))\n",
        " print(x.strftime(\"%B\"))\n",
        " print(x.strftime(\"%W\"))\n",
        " print(x.strftime(\"%w\"))\n",
        " print(x.strftime(\"%j\"))\n",
        " print(x.strftime(\"%d\"))\n",
        " print(x.strftime(\"%A\"))\n",
        "get_datetime_now()"
      ],
      "metadata": {
        "colab": {
          "base_uri": "https://localhost:8080/"
        },
        "id": "eJ9pHFBhaCVW",
        "outputId": "c4dfd129-1037-4965-8ca4-6e433d8f1ab2"
      },
      "execution_count": 75,
      "outputs": [
        {
          "output_type": "stream",
          "name": "stdout",
          "text": [
            "2023-10-15 19:26:37.070094\n",
            "2023\n",
            "10\n",
            "October\n",
            "41\n",
            "0\n",
            "288\n",
            "15\n",
            "Sunday\n"
          ]
        }
      ]
    },
    {
      "cell_type": "markdown",
      "source": [
        "Exerscise 8"
      ],
      "metadata": {
        "id": "e6jRGagu-ju0"
      }
    },
    {
      "cell_type": "code",
      "source": [
        "from datetime import datetime, timedelta\n",
        "\n",
        "def generate_next_6_days(date):\n",
        "    for i in range(6):\n",
        "        next_date = date + timedelta(days=i)\n",
        "        day_of_week = next_date.strftime('%A')\n",
        "        month_name = next_date.strftime('%B')\n",
        "        full_year = next_date.year\n",
        "        print(day_of_week,\",\",month_name,\",\",full_year)\n",
        "\n",
        "date = datetime.now()\n",
        "generate_next_6_days(date)"
      ],
      "metadata": {
        "colab": {
          "base_uri": "https://localhost:8080/"
        },
        "id": "ytheYdUs_D_s",
        "outputId": "78b9c066-3825-41bb-ad1d-e2a3678aa4ff"
      },
      "execution_count": 111,
      "outputs": [
        {
          "output_type": "stream",
          "name": "stdout",
          "text": [
            "Sunday , October , 2023\n",
            "Monday , October , 2023\n",
            "Tuesday , October , 2023\n",
            "Wednesday , October , 2023\n",
            "Thursday , October , 2023\n",
            "Friday , October , 2023\n"
          ]
        }
      ]
    }
  ]
}