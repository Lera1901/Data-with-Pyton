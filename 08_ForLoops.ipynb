{
  "nbformat": 4,
  "nbformat_minor": 0,
  "metadata": {
    "colab": {
      "provenance": [],
      "authorship_tag": "ABX9TyNRZSMG244EnnCfrVQ0OCtx",
      "include_colab_link": true
    },
    "kernelspec": {
      "name": "python3",
      "display_name": "Python 3"
    },
    "language_info": {
      "name": "python"
    }
  },
  "cells": [
    {
      "cell_type": "markdown",
      "metadata": {
        "id": "view-in-github",
        "colab_type": "text"
      },
      "source": [
        "<a href=\"https://colab.research.google.com/github/Lera1901/Data-with-Pyton/blob/main/08_ForLoops.ipynb\" target=\"_parent\"><img src=\"https://colab.research.google.com/assets/colab-badge.svg\" alt=\"Open In Colab\"/></a>"
      ]
    },
    {
      "cell_type": "markdown",
      "source": [
        "Exercise 1"
      ],
      "metadata": {
        "id": "uWO7_dikTrnp"
      }
    },
    {
      "cell_type": "code",
      "source": [
        "def list_numbers() :\n",
        "  for i in range(10):\n",
        "    print(i)\n",
        "list_numbers()"
      ],
      "metadata": {
        "colab": {
          "base_uri": "https://localhost:8080/"
        },
        "id": "El906ZzaTtvh",
        "outputId": "e7514b70-5b86-4bdb-e38d-130d361ad5e8"
      },
      "execution_count": 4,
      "outputs": [
        {
          "output_type": "stream",
          "name": "stdout",
          "text": [
            "0\n",
            "1\n",
            "2\n",
            "3\n",
            "4\n",
            "5\n",
            "6\n",
            "7\n",
            "8\n",
            "9\n"
          ]
        }
      ]
    },
    {
      "cell_type": "markdown",
      "source": [
        "Exercise 2"
      ],
      "metadata": {
        "id": "7Y5eTmIfT5jb"
      }
    },
    {
      "cell_type": "code",
      "source": [
        "def list_number_range() :\n",
        "  for i in range(5,16):\n",
        "    print(i)\n",
        "list_number_range()"
      ],
      "metadata": {
        "colab": {
          "base_uri": "https://localhost:8080/"
        },
        "id": "0y75aZl3T8Co",
        "outputId": "f16da7b8-d66e-43fd-d7b0-98b77f9a8285"
      },
      "execution_count": 6,
      "outputs": [
        {
          "output_type": "stream",
          "name": "stdout",
          "text": [
            "5\n",
            "6\n",
            "7\n",
            "8\n",
            "9\n",
            "10\n",
            "11\n",
            "12\n",
            "13\n",
            "14\n",
            "15\n"
          ]
        }
      ]
    },
    {
      "cell_type": "markdown",
      "source": [
        "Exercise 3"
      ],
      "metadata": {
        "id": "miE2LiyqUZF7"
      }
    },
    {
      "cell_type": "code",
      "source": [
        "def list_evens() :\n",
        "  for i in range(2,21,2):\n",
        "    print(i)\n",
        "list_evens()"
      ],
      "metadata": {
        "colab": {
          "base_uri": "https://localhost:8080/"
        },
        "id": "R3FcJa07Uawx",
        "outputId": "d43cba51-ff21-4d02-f74a-fd3a11d4f060"
      },
      "execution_count": 10,
      "outputs": [
        {
          "output_type": "stream",
          "name": "stdout",
          "text": [
            "2\n",
            "4\n",
            "6\n",
            "8\n",
            "10\n",
            "12\n",
            "14\n",
            "16\n",
            "18\n",
            "20\n"
          ]
        }
      ]
    },
    {
      "cell_type": "markdown",
      "source": [
        "Exercise 4"
      ],
      "metadata": {
        "id": "QIO0zQI5UqrW"
      }
    },
    {
      "cell_type": "code",
      "source": [
        "def list_multiples():\n",
        "  for i in range(3,37,3):\n",
        "    print(i)\n",
        "list_multiples()"
      ],
      "metadata": {
        "colab": {
          "base_uri": "https://localhost:8080/"
        },
        "id": "RIuW_YL_UtfG",
        "outputId": "ca139934-16c8-44ef-98e1-e4014e6b34ac"
      },
      "execution_count": 12,
      "outputs": [
        {
          "output_type": "stream",
          "name": "stdout",
          "text": [
            "3\n",
            "6\n",
            "9\n",
            "12\n",
            "15\n",
            "18\n",
            "21\n",
            "24\n",
            "27\n",
            "30\n",
            "33\n",
            "36\n"
          ]
        }
      ]
    },
    {
      "cell_type": "markdown",
      "source": [
        "Exercise 5"
      ],
      "metadata": {
        "id": "nYq55h1YU_vZ"
      }
    },
    {
      "cell_type": "code",
      "source": [
        "def list_reverse():\n",
        "  for i in range(15,4,-1):\n",
        "   print(i)\n",
        "list_reverse()"
      ],
      "metadata": {
        "colab": {
          "base_uri": "https://localhost:8080/"
        },
        "id": "0a7ySFKtVBoW",
        "outputId": "b49f2934-4309-470c-bef8-3fd2fa6d8021"
      },
      "execution_count": 22,
      "outputs": [
        {
          "output_type": "stream",
          "name": "stdout",
          "text": [
            "15\n",
            "14\n",
            "13\n",
            "12\n",
            "11\n",
            "10\n",
            "9\n",
            "8\n",
            "7\n",
            "6\n",
            "5\n"
          ]
        }
      ]
    },
    {
      "cell_type": "markdown",
      "source": [
        "Exercise 6"
      ],
      "metadata": {
        "id": "uxdUuA_YVvhv"
      }
    },
    {
      "cell_type": "code",
      "source": [
        "def calculate_sum_of():\n",
        "  total = 0\n",
        "  for i in range(1,16):\n",
        "      total = total+i\n",
        "  print(total)\n",
        "calculate_sum_of()"
      ],
      "metadata": {
        "colab": {
          "base_uri": "https://localhost:8080/"
        },
        "id": "nzYa7YsgVxiJ",
        "outputId": "21781139-5009-4b1d-91f9-e82b6b1d2071"
      },
      "execution_count": 24,
      "outputs": [
        {
          "output_type": "stream",
          "name": "stdout",
          "text": [
            "120\n"
          ]
        }
      ]
    },
    {
      "cell_type": "markdown",
      "source": [
        "Exercise 7"
      ],
      "metadata": {
        "id": "qKfFi5XXWqVp"
      }
    },
    {
      "cell_type": "code",
      "source": [
        "def average():\n",
        "  total = 0\n",
        "  for i in range(1,6):\n",
        "    i = int(input(\"Enter whole number: \"))\n",
        "    total = total+i\n",
        "  print(\"average\",round(total/5))\n",
        "average()"
      ],
      "metadata": {
        "colab": {
          "base_uri": "https://localhost:8080/"
        },
        "id": "6zsA1JCCWskb",
        "outputId": "d5905738-a640-4ec5-8ec6-b82e117e4f91"
      },
      "execution_count": 32,
      "outputs": [
        {
          "output_type": "stream",
          "name": "stdout",
          "text": [
            "Enter whole number: 1\n",
            "Enter whole number: 2\n",
            "Enter whole number: 3\n",
            "Enter whole number: 4\n",
            "Enter whole number: 5\n",
            "average 3\n"
          ]
        }
      ]
    },
    {
      "cell_type": "markdown",
      "source": [
        "Exercise 8"
      ],
      "metadata": {
        "id": "GFRr6e6VZIRs"
      }
    },
    {
      "cell_type": "code",
      "source": [
        "def display_times_table():\n",
        "  number = int(input(\"Enter whole number: \"))\n",
        "  for i in range(1,11):\n",
        "    total = number*i\n",
        "    print(i,\"x\",number,\"=\",total)\n",
        "display_times_table()"
      ],
      "metadata": {
        "colab": {
          "base_uri": "https://localhost:8080/"
        },
        "id": "7WyuZU8FZYnV",
        "outputId": "c1bce8c9-1aac-42ad-c63a-9d1d123a102b"
      },
      "execution_count": 33,
      "outputs": [
        {
          "output_type": "stream",
          "name": "stdout",
          "text": [
            "Enter whole number: 4\n",
            "1 x 4 = 4\n",
            "2 x 4 = 8\n",
            "3 x 4 = 12\n",
            "4 x 4 = 16\n",
            "5 x 4 = 20\n",
            "6 x 4 = 24\n",
            "7 x 4 = 28\n",
            "8 x 4 = 32\n",
            "9 x 4 = 36\n",
            "10 x 4 = 40\n"
          ]
        }
      ]
    },
    {
      "cell_type": "markdown",
      "source": [
        "Exercise 9"
      ],
      "metadata": {
        "id": "whUUVs3Ra1Uo"
      }
    },
    {
      "cell_type": "code",
      "source": [
        "def countdown():\n",
        "  number = int(input(\"Enter whole number: \"))\n",
        "  for number in range(number,0,-1):\n",
        "    print(number)\n",
        "  print(\"GO\")\n",
        "countdown()"
      ],
      "metadata": {
        "colab": {
          "base_uri": "https://localhost:8080/"
        },
        "id": "42U25314a4sM",
        "outputId": "af0d6477-46a7-48a3-bd6e-8a57c0229b25"
      },
      "execution_count": 36,
      "outputs": [
        {
          "output_type": "stream",
          "name": "stdout",
          "text": [
            "Enter whole number: 10\n",
            "10\n",
            "9\n",
            "8\n",
            "7\n",
            "6\n",
            "5\n",
            "4\n",
            "3\n",
            "2\n",
            "1\n",
            "GO\n"
          ]
        }
      ]
    },
    {
      "cell_type": "markdown",
      "source": [
        "Exercise 10"
      ],
      "metadata": {
        "id": "DYSIUBUrb7qP"
      }
    },
    {
      "cell_type": "code",
      "source": [
        "def find_multiples():\n",
        "\n",
        "  for i in range(500,1501):\n",
        "    if i%3 ==0 and i%10 == 0:\n",
        "     print(i)\n",
        "find_multiples()"
      ],
      "metadata": {
        "colab": {
          "base_uri": "https://localhost:8080/"
        },
        "id": "EbvIeUBYb9eT",
        "outputId": "2ac710bf-65f6-439d-e394-4acbd8424281"
      },
      "execution_count": 43,
      "outputs": [
        {
          "output_type": "stream",
          "name": "stdout",
          "text": [
            "510\n",
            "540\n",
            "570\n",
            "600\n",
            "630\n",
            "660\n",
            "690\n",
            "720\n",
            "750\n",
            "780\n",
            "810\n",
            "840\n",
            "870\n",
            "900\n",
            "930\n",
            "960\n",
            "990\n",
            "1020\n",
            "1050\n",
            "1080\n",
            "1110\n",
            "1140\n",
            "1170\n",
            "1200\n",
            "1230\n",
            "1260\n",
            "1290\n",
            "1320\n",
            "1350\n",
            "1380\n",
            "1410\n",
            "1440\n",
            "1470\n",
            "1500\n"
          ]
        }
      ]
    }
  ]
}