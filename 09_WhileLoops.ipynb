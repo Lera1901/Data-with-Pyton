{
  "nbformat": 4,
  "nbformat_minor": 0,
  "metadata": {
    "colab": {
      "provenance": [],
      "authorship_tag": "ABX9TyM6Qd4rTp6JMaEzC9up4tLd",
      "include_colab_link": true
    },
    "kernelspec": {
      "name": "python3",
      "display_name": "Python 3"
    },
    "language_info": {
      "name": "python"
    }
  },
  "cells": [
    {
      "cell_type": "markdown",
      "metadata": {
        "id": "view-in-github",
        "colab_type": "text"
      },
      "source": [
        "<a href=\"https://colab.research.google.com/github/Lera1901/Data-with-Pyton/blob/main/09_WhileLoops.ipynb\" target=\"_parent\"><img src=\"https://colab.research.google.com/assets/colab-badge.svg\" alt=\"Open In Colab\"/></a>"
      ]
    },
    {
      "cell_type": "markdown",
      "source": [
        "Exercise 1"
      ],
      "metadata": {
        "id": "YH8V0PzQi5fG"
      }
    },
    {
      "cell_type": "code",
      "source": [
        "def get_username():\n",
        " valid = False\n",
        " while not valid:\n",
        "  username = input(\"Enter a username: \")\n",
        "  if username == \"user\":\n",
        "            valid = True\n",
        "  else:\n",
        "   print(\"Incorrect username\")\n",
        "\n",
        " print(\"Welcome\", username ,\",\", \"you will now be asked to enter your password\")\n",
        "\n",
        "get_username()"
      ],
      "metadata": {
        "colab": {
          "base_uri": "https://localhost:8080/"
        },
        "id": "XEDwgza6i7EU",
        "outputId": "ce2b24da-c678-48b7-bcbb-d9a601402d66"
      },
      "execution_count": 7,
      "outputs": [
        {
          "output_type": "stream",
          "name": "stdout",
          "text": [
            "Enter a username: ghgj\n",
            "Incorrect username\n",
            "Enter a username: user\n",
            "Welcome user , you will now be asked to enter your password\n"
          ]
        }
      ]
    },
    {
      "cell_type": "markdown",
      "source": [
        "Exercise 2"
      ],
      "metadata": {
        "id": "XNvdm5mplI0R"
      }
    },
    {
      "cell_type": "code",
      "source": [
        "def get_passcode():\n",
        "  valid = False\n",
        "  while not valid:\n",
        "    passcode = input(\"Enter a passcode: \")\n",
        "    if passcode == \"9876\":\n",
        "            valid = True\n",
        "    else:\n",
        "     print(\"Incorrect password\")\n",
        "  print(\"passcode accepted\")\n",
        "get_passcode()"
      ],
      "metadata": {
        "id": "hZdD9SCklycW",
        "outputId": "ef640e3e-bea8-4741-a33e-265cf7d31f83",
        "colab": {
          "base_uri": "https://localhost:8080/"
        }
      },
      "execution_count": 10,
      "outputs": [
        {
          "output_type": "stream",
          "name": "stdout",
          "text": [
            "Enter a passcode: 1234\n",
            "Incorrect password\n",
            "Enter a passcode: 9876\n",
            "passcode accepted\n"
          ]
        }
      ]
    },
    {
      "cell_type": "markdown",
      "source": [
        "Exercise 3"
      ],
      "metadata": {
        "id": "25w89WCvnQPI"
      }
    },
    {
      "cell_type": "code",
      "source": [
        "def get_digit():\n",
        "  valid_digit = False\n",
        "  while not valid_digit:\n",
        "    single_digit = int(input(\"Enter number less 10:\"))\n",
        "    if single_digit <= 10:\n",
        "       valid_digit = True\n",
        "       print(single_digit)\n",
        "    else:\n",
        "      print(\"Not a digit\")\n",
        "  print(\"Single digit entered\")\n",
        "get_digit()"
      ],
      "metadata": {
        "id": "RT7vH21TnUSM",
        "outputId": "c5229486-a8eb-4ee8-c339-83ef5366115a",
        "colab": {
          "base_uri": "https://localhost:8080/"
        }
      },
      "execution_count": 7,
      "outputs": [
        {
          "output_type": "stream",
          "name": "stdout",
          "text": [
            "Enter number less 10:11\n",
            "Not a digit\n",
            "Enter number less 10:9\n",
            "9\n",
            "Single digit entered\n"
          ]
        }
      ]
    },
    {
      "cell_type": "markdown",
      "source": [
        "Exercise 4"
      ],
      "metadata": {
        "id": "xpaI-orJuyyQ"
      }
    },
    {
      "cell_type": "code",
      "source": [
        "def positive_number():\n",
        "  pos_number = False\n",
        "  while not pos_number:\n",
        "    number=int(input(\"enter a number: \"))\n",
        "    if number>0:\n",
        "     pos_number = True\n",
        "     print(number)\n",
        "    else:\n",
        "     print(\"It must be a positive number, try again\")\n",
        "positive_number()\n",
        "\n"
      ],
      "metadata": {
        "id": "MCfZl1MMu1z2",
        "outputId": "c4238322-30f2-4acd-ccb9-3c0ac1f4a968",
        "colab": {
          "base_uri": "https://localhost:8080/"
        }
      },
      "execution_count": 10,
      "outputs": [
        {
          "output_type": "stream",
          "name": "stdout",
          "text": [
            "enter a number: -10\n",
            "It must be a positive number, try again\n",
            "enter a number: 0\n",
            "It must be a positive number, try again\n",
            "enter a number: 20\n",
            "20\n"
          ]
        }
      ]
    },
    {
      "cell_type": "markdown",
      "source": [
        "Exercise 5"
      ],
      "metadata": {
        "id": "4qwiEbiRw4UB"
      }
    },
    {
      "cell_type": "code",
      "source": [
        "def test_limits():\n",
        "  ask = False\n",
        "  while not ask:\n",
        "    number = int(input(\"enter a number between 1 and 31: \"))\n",
        "    if 1 <= number <= 31:\n",
        "      ask = True\n",
        "      print(\"Your number was\",number)\n",
        "    else:\n",
        "      print(\"Number out of limits\")\n",
        "test_limits()"
      ],
      "metadata": {
        "id": "Z2TXb3X5w7-l",
        "outputId": "215575e9-55bc-46df-e95e-39c30444bd87",
        "colab": {
          "base_uri": "https://localhost:8080/"
        }
      },
      "execution_count": 18,
      "outputs": [
        {
          "output_type": "stream",
          "name": "stdout",
          "text": [
            "enter a number between 1 and 31: 50\n",
            "Number out of limits\n",
            "enter a number between 1 and 31: 40\n",
            "Number out of limits\n",
            "enter a number between 1 and 31: 20\n",
            "Your number was 20\n"
          ]
        }
      ]
    },
    {
      "cell_type": "markdown",
      "source": [
        "Exercise 6"
      ],
      "metadata": {
        "id": "ljWBw-why_rv"
      }
    },
    {
      "cell_type": "code",
      "source": [
        "def test_outlier():\n",
        "  outlier = False\n",
        "  while not outlier:\n",
        "    number = int(input(\"enter a number that is NOT between 40 and 50: \"))\n",
        "    if 40 < number < 50:\n",
        "      outlier = True\n",
        "      print (\"You have entered an outlier\")\n",
        "    else:\n",
        "      print(\"This is not an outlier\")\n",
        "test_outlier()\n",
        "\n"
      ],
      "metadata": {
        "id": "GpefrgUXzDdd",
        "outputId": "e6db8083-4553-4c03-8478-16ca6b36d72d",
        "colab": {
          "base_uri": "https://localhost:8080/"
        }
      },
      "execution_count": 21,
      "outputs": [
        {
          "output_type": "stream",
          "name": "stdout",
          "text": [
            "enter a number that is NOT between 40 and 50: 40\n",
            "This is not an outlier\n",
            "enter a number that is NOT between 40 and 50: 50\n",
            "This is not an outlier\n",
            "enter a number that is NOT between 40 and 50: 35\n",
            "This is not an outlier\n",
            "enter a number that is NOT between 40 and 50: 45\n",
            "You have entered an outlier\n"
          ]
        }
      ]
    },
    {
      "cell_type": "markdown",
      "source": [
        "Exercise 7"
      ],
      "metadata": {
        "id": "cpoHtiPp3GFF"
      }
    },
    {
      "cell_type": "code",
      "source": [
        "def increase_to_twenty_thousand():\n",
        "  number = int(input(\"input a number:\"))\n",
        "\n",
        "  while number <= 20000:\n",
        "    number *= number\n",
        "    print(number)\n",
        "increase_to_twenty_thousand()"
      ],
      "metadata": {
        "id": "Ovj6iMop3Iq1",
        "outputId": "14fa40ef-cda7-4026-a6ff-aba1665d32a7",
        "colab": {
          "base_uri": "https://localhost:8080/"
        }
      },
      "execution_count": 23,
      "outputs": [
        {
          "output_type": "stream",
          "name": "stdout",
          "text": [
            "input a number:5\n",
            "25\n",
            "625\n",
            "390625\n"
          ]
        }
      ]
    },
    {
      "cell_type": "markdown",
      "source": [
        "Exercise 8"
      ],
      "metadata": {
        "id": "Os6TBTMx6DvZ"
      }
    },
    {
      "cell_type": "code",
      "source": [],
      "metadata": {
        "id": "7VSUEiA26GXx"
      },
      "execution_count": null,
      "outputs": []
    }
  ]
}