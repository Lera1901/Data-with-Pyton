{
  "nbformat": 4,
  "nbformat_minor": 0,
  "metadata": {
    "colab": {
      "provenance": [],
      "authorship_tag": "ABX9TyPKPJUbCIBy3VnWXIL9bIlq",
      "include_colab_link": true
    },
    "kernelspec": {
      "name": "python3",
      "display_name": "Python 3"
    },
    "language_info": {
      "name": "python"
    }
  },
  "cells": [
    {
      "cell_type": "markdown",
      "metadata": {
        "id": "view-in-github",
        "colab_type": "text"
      },
      "source": [
        "<a href=\"https://colab.research.google.com/github/Lera1901/Data-with-Pyton/blob/main/09_WhileLoops.ipynb\" target=\"_parent\"><img src=\"https://colab.research.google.com/assets/colab-badge.svg\" alt=\"Open In Colab\"/></a>"
      ]
    },
    {
      "cell_type": "markdown",
      "source": [
        "Exercise 1"
      ],
      "metadata": {
        "id": "YH8V0PzQi5fG"
      }
    },
    {
      "cell_type": "code",
      "source": [
        "def get_username():\n",
        " valid = False\n",
        " while not valid:\n",
        "  username = input(\"Enter a username: \")\n",
        "  if username == \"user\":\n",
        "            valid = True\n",
        "  else:\n",
        "   print(\"Incorrect username\")\n",
        "\n",
        " print(\"Welcome\", username ,\",\", \"you will now be asked to enter your password\")\n",
        "\n",
        "get_username()"
      ],
      "metadata": {
        "colab": {
          "base_uri": "https://localhost:8080/"
        },
        "id": "XEDwgza6i7EU",
        "outputId": "ce2b24da-c678-48b7-bcbb-d9a601402d66"
      },
      "execution_count": 7,
      "outputs": [
        {
          "output_type": "stream",
          "name": "stdout",
          "text": [
            "Enter a username: ghgj\n",
            "Incorrect username\n",
            "Enter a username: user\n",
            "Welcome user , you will now be asked to enter your password\n"
          ]
        }
      ]
    },
    {
      "cell_type": "markdown",
      "source": [
        "Exercise 2"
      ],
      "metadata": {
        "id": "XNvdm5mplI0R"
      }
    },
    {
      "cell_type": "code",
      "source": [
        "def get_passcode():\n",
        "  valid = False\n",
        "  while not valid:\n",
        "    passcode = input(\"Enter a passcode: \")\n",
        "    if passcode == \"9876\":\n",
        "            valid = True\n",
        "    else:\n",
        "     print(\"Incorrect password\")\n",
        "  print(\"passcode accepted\")\n",
        "get_passcode()"
      ],
      "metadata": {
        "colab": {
          "base_uri": "https://localhost:8080/"
        },
        "id": "hZdD9SCklycW",
        "outputId": "ef640e3e-bea8-4741-a33e-265cf7d31f83"
      },
      "execution_count": 10,
      "outputs": [
        {
          "output_type": "stream",
          "name": "stdout",
          "text": [
            "Enter a passcode: 1234\n",
            "Incorrect password\n",
            "Enter a passcode: 9876\n",
            "passcode accepted\n"
          ]
        }
      ]
    },
    {
      "cell_type": "markdown",
      "source": [
        "Exercise 3"
      ],
      "metadata": {
        "id": "25w89WCvnQPI"
      }
    },
    {
      "cell_type": "code",
      "source": [
        "def get_digit():\n",
        "  valid_digit = False\n",
        "  while not valid_digit:\n",
        "    single_digit = int(input(\"Enter number less 10:\"))\n",
        "    if single_digit <= 10:\n",
        "       valid_digit = True\n",
        "       print(single_digit)\n",
        "    else:\n",
        "      print(\"Not a digit\")\n",
        "  print(\"Single digit entered\")\n",
        "get_digit()"
      ],
      "metadata": {
        "colab": {
          "base_uri": "https://localhost:8080/"
        },
        "id": "RT7vH21TnUSM",
        "outputId": "c5229486-a8eb-4ee8-c339-83ef5366115a"
      },
      "execution_count": 7,
      "outputs": [
        {
          "output_type": "stream",
          "name": "stdout",
          "text": [
            "Enter number less 10:11\n",
            "Not a digit\n",
            "Enter number less 10:9\n",
            "9\n",
            "Single digit entered\n"
          ]
        }
      ]
    },
    {
      "cell_type": "markdown",
      "source": [
        "Exercise 4"
      ],
      "metadata": {
        "id": "xpaI-orJuyyQ"
      }
    },
    {
      "cell_type": "code",
      "source": [
        "def positive_number():\n",
        "  pos_number = False\n",
        "  while not pos_number:\n",
        "    number=int(input(\"enter a number: \"))\n",
        "    if number>0:\n",
        "     pos_number = True\n",
        "     print(number)\n",
        "    else:\n",
        "     print(\"It must be a positive number, try again\")\n",
        "positive_number()\n",
        "\n"
      ],
      "metadata": {
        "colab": {
          "base_uri": "https://localhost:8080/"
        },
        "id": "MCfZl1MMu1z2",
        "outputId": "c4238322-30f2-4acd-ccb9-3c0ac1f4a968"
      },
      "execution_count": 10,
      "outputs": [
        {
          "output_type": "stream",
          "name": "stdout",
          "text": [
            "enter a number: -10\n",
            "It must be a positive number, try again\n",
            "enter a number: 0\n",
            "It must be a positive number, try again\n",
            "enter a number: 20\n",
            "20\n"
          ]
        }
      ]
    },
    {
      "cell_type": "markdown",
      "source": [
        "Exercise 5"
      ],
      "metadata": {
        "id": "4qwiEbiRw4UB"
      }
    },
    {
      "cell_type": "code",
      "source": [
        "def test_limits():\n",
        "  ask = False\n",
        "  while not ask:\n",
        "    number = int(input(\"enter a number between 1 and 31: \"))\n",
        "    if 1 <= number <= 31:\n",
        "      ask = True\n",
        "      print(\"Your number was\",number)\n",
        "    else:\n",
        "      print(\"Number out of limits\")\n",
        "test_limits()"
      ],
      "metadata": {
        "colab": {
          "base_uri": "https://localhost:8080/"
        },
        "id": "Z2TXb3X5w7-l",
        "outputId": "215575e9-55bc-46df-e95e-39c30444bd87"
      },
      "execution_count": 18,
      "outputs": [
        {
          "output_type": "stream",
          "name": "stdout",
          "text": [
            "enter a number between 1 and 31: 50\n",
            "Number out of limits\n",
            "enter a number between 1 and 31: 40\n",
            "Number out of limits\n",
            "enter a number between 1 and 31: 20\n",
            "Your number was 20\n"
          ]
        }
      ]
    },
    {
      "cell_type": "markdown",
      "source": [
        "Exercise 6"
      ],
      "metadata": {
        "id": "ljWBw-why_rv"
      }
    },
    {
      "cell_type": "code",
      "source": [
        "def test_outlier():\n",
        "  outlier = False\n",
        "  while not outlier:\n",
        "    number = int(input(\"enter a number that is NOT between 40 and 50: \"))\n",
        "    if 40 < number < 50:\n",
        "      outlier = True\n",
        "      print (\"You have entered an outlier\")\n",
        "    else:\n",
        "      print(\"This is not an outlier\")\n",
        "test_outlier()\n",
        "\n"
      ],
      "metadata": {
        "colab": {
          "base_uri": "https://localhost:8080/"
        },
        "id": "GpefrgUXzDdd",
        "outputId": "e6db8083-4553-4c03-8478-16ca6b36d72d"
      },
      "execution_count": 21,
      "outputs": [
        {
          "output_type": "stream",
          "name": "stdout",
          "text": [
            "enter a number that is NOT between 40 and 50: 40\n",
            "This is not an outlier\n",
            "enter a number that is NOT between 40 and 50: 50\n",
            "This is not an outlier\n",
            "enter a number that is NOT between 40 and 50: 35\n",
            "This is not an outlier\n",
            "enter a number that is NOT between 40 and 50: 45\n",
            "You have entered an outlier\n"
          ]
        }
      ]
    },
    {
      "cell_type": "markdown",
      "source": [
        "Exercise 7"
      ],
      "metadata": {
        "id": "cpoHtiPp3GFF"
      }
    },
    {
      "cell_type": "code",
      "source": [
        "def increase_to_twenty_thousand():\n",
        "  number = int(input(\"input a number:\"))\n",
        "\n",
        "  while number <= 20000:\n",
        "    number *= number\n",
        "    print(number)\n",
        "increase_to_twenty_thousand()"
      ],
      "metadata": {
        "colab": {
          "base_uri": "https://localhost:8080/"
        },
        "id": "Ovj6iMop3Iq1",
        "outputId": "14fa40ef-cda7-4026-a6ff-aba1665d32a7"
      },
      "execution_count": 23,
      "outputs": [
        {
          "output_type": "stream",
          "name": "stdout",
          "text": [
            "input a number:5\n",
            "25\n",
            "625\n",
            "390625\n"
          ]
        }
      ]
    },
    {
      "cell_type": "markdown",
      "source": [
        "Exercise 8"
      ],
      "metadata": {
        "id": "Os6TBTMx6DvZ"
      }
    },
    {
      "cell_type": "code",
      "source": [
        "def get_even_number():\n",
        "\n",
        "  while True:\n",
        "    number = int(input(\" input an even number:  \"))\n",
        "    if number%2 ==0:\n",
        "      print (\"Thanks, that number is even\")\n",
        "      break\n",
        "    else:\n",
        "      print (\"That number is odd\")\n",
        "get_even_number()"
      ],
      "metadata": {
        "colab": {
          "base_uri": "https://localhost:8080/"
        },
        "id": "7VSUEiA26GXx",
        "outputId": "e8097dd6-9bd4-410d-ffac-101ddff0d3e9"
      },
      "execution_count": 6,
      "outputs": [
        {
          "output_type": "stream",
          "name": "stdout",
          "text": [
            " input an even number:  1\n",
            "That number is odd\n",
            " input an even number:  3\n",
            "That number is odd\n",
            " input an even number:  4\n",
            "Thanks, that number is even\n"
          ]
        }
      ]
    },
    {
      "cell_type": "markdown",
      "source": [
        "Exercise 9"
      ],
      "metadata": {
        "id": "Rp4SBOM3_bBD"
      }
    },
    {
      "cell_type": "code",
      "source": [
        "def show_special_numbers():\n",
        "\n",
        "  while True:\n",
        "     print(\"\")\n",
        "     print(\"What value would you like to see?\")\n",
        "     print(\"1.Pi\")\n",
        "     print(\"2.Plank’s constant\")\n",
        "     print(\"3.E\")\n",
        "     print(\"4.Square root of 2\")\n",
        "     print(\"5.Out of the program\")\n",
        "     print(\"\")\n",
        "     menu_options = int(input(\"Enter your choice (1-5):\"))\n",
        "     if menu_options == 1:\n",
        "      print(\"3.14159265359\")\n",
        "     elif menu_options == 2:\n",
        "      print(\"6.62607004E-34\")\n",
        "     elif menu_options == 3:\n",
        "      print(\"2.71828\")\n",
        "     elif menu_options == 4:\n",
        "      print(\"1.414\")\n",
        "     elif menu_options == 5:\n",
        "      print(\"Thank you for using this program\")\n",
        "      break\n",
        "     else:\n",
        "      print(\"Invalid choice\")\n",
        "show_special_numbers()"
      ],
      "metadata": {
        "id": "KSimSjTI_dpL",
        "outputId": "8e397442-eec7-4408-cf47-33b286967d06",
        "colab": {
          "base_uri": "https://localhost:8080/"
        }
      },
      "execution_count": 11,
      "outputs": [
        {
          "output_type": "stream",
          "name": "stdout",
          "text": [
            "\n",
            "What value would you like to see?\n",
            "1.Pi\n",
            "2.Plank’s constant\n",
            "3.E\n",
            "4.Square root of 2\n",
            "5.Out of the program\n",
            "\n",
            "Enter your choice (1-5):1\n",
            "3.14159265359\n",
            "\n",
            "What value would you like to see?\n",
            "1.Pi\n",
            "2.Plank’s constant\n",
            "3.E\n",
            "4.Square root of 2\n",
            "5.Out of the program\n",
            "\n",
            "Enter your choice (1-5):3\n",
            "2.71828\n",
            "\n",
            "What value would you like to see?\n",
            "1.Pi\n",
            "2.Plank’s constant\n",
            "3.E\n",
            "4.Square root of 2\n",
            "5.Out of the program\n",
            "\n",
            "Enter your choice (1-5):6\n",
            "Invalid choice\n",
            "\n",
            "What value would you like to see?\n",
            "1.Pi\n",
            "2.Plank’s constant\n",
            "3.E\n",
            "4.Square root of 2\n",
            "5.Out of the program\n",
            "\n",
            "Enter your choice (1-5):5\n",
            "Thank you for using this program\n"
          ]
        }
      ]
    },
    {
      "cell_type": "markdown",
      "source": [
        "Exercise 10"
      ],
      "metadata": {
        "id": "oUVIXjQfDZUO"
      }
    },
    {
      "cell_type": "code",
      "source": [
        "from random import randint\n",
        "def guess_number(number):\n",
        "  i=0\n",
        "  while i < 6:\n",
        "   guess = int(input(\"Guess the number (1-50): \"))\n",
        "   i += 1\n",
        "   if guess > number:\n",
        "    print(\"Too high\")\n",
        "   elif guess < number:\n",
        "    print(\"Too low\")\n",
        "   else:\n",
        "    print(\"You guessed it\")\n",
        "    break\n",
        "  print(\"Too mach attempts\")\n",
        "guess_number(randint(1,50))"
      ],
      "metadata": {
        "id": "o4dH4G1CDb2P",
        "outputId": "cdd8ec7a-2989-455b-e304-09f66edbc7cb",
        "colab": {
          "base_uri": "https://localhost:8080/"
        }
      },
      "execution_count": 21,
      "outputs": [
        {
          "output_type": "stream",
          "name": "stdout",
          "text": [
            "Guess the number: 1\n",
            "Too low\n",
            "Guess the number: 2\n",
            "Too low\n",
            "Guess the number: 10\n",
            "Too low\n",
            "Guess the number: 20\n",
            "Too low\n",
            "Guess the number: 40\n",
            "Too high\n",
            "Guess the number: 30\n",
            "Too low\n",
            "Too mach attempts\n"
          ]
        }
      ]
    }
  ]
}