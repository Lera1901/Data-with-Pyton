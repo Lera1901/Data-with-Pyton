{
  "nbformat": 4,
  "nbformat_minor": 0,
  "metadata": {
    "colab": {
      "provenance": [],
      "name": "DataTypes1",
      "toc_visible": true,
      "authorship_tag": "ABX9TyPUTb1Zi/FmHbuj5kQeDeeB",
      "include_colab_link": true
    },
    "kernelspec": {
      "name": "python3",
      "display_name": "Python 3"
    },
    "language_info": {
      "name": "python"
    }
  },
  "cells": [
    {
      "cell_type": "markdown",
      "metadata": {
        "id": "view-in-github",
        "colab_type": "text"
      },
      "source": [
        "<a href=\"https://colab.research.google.com/github/Lera1901/Data-with-Pyton/blob/main/DataTypes1.ipynb\" target=\"_parent\"><img src=\"https://colab.research.google.com/assets/colab-badge.svg\" alt=\"Open In Colab\"/></a>"
      ]
    },
    {
      "cell_type": "code",
      "execution_count": null,
      "metadata": {
        "colab": {
          "base_uri": "https://localhost:8080/"
        },
        "id": "C6dDfYDPncph",
        "outputId": "e65c640b-428b-4fcd-ada9-f77c4d358b61"
      },
      "outputs": [
        {
          "output_type": "stream",
          "name": "stdout",
          "text": [
            "hello Valeria\n"
          ]
        }
      ],
      "source": [
        "name=\"Valeria\"\n",
        "print(\"hello\",name)\n"
      ]
    },
    {
      "cell_type": "markdown",
      "source": [],
      "metadata": {
        "id": "_z2I59a3n671"
      }
    },
    {
      "cell_type": "code",
      "source": [
        "num1=3\n",
        "num2=7\n",
        "total=(num1+num2)\n",
        "print(total)\n",
        "\n"
      ],
      "metadata": {
        "id": "0xaiiB9Xn7Xz",
        "colab": {
          "base_uri": "https://localhost:8080/"
        },
        "outputId": "b5803534-bd28-48dd-e987-2903d4c7f606"
      },
      "execution_count": 2,
      "outputs": [
        {
          "output_type": "stream",
          "name": "stdout",
          "text": [
            "10\n"
          ]
        }
      ]
    },
    {
      "cell_type": "code",
      "source": [],
      "metadata": {
        "id": "fbErbSUDz87q"
      },
      "execution_count": null,
      "outputs": []
    }
  ]
}