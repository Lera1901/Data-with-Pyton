{
  "nbformat": 4,
  "nbformat_minor": 0,
  "metadata": {
    "colab": {
      "provenance": [],
      "name": "DataTypes1",
      "toc_visible": true,
      "authorship_tag": "ABX9TyNBikutGOukqBVnds0ROgJm",
      "include_colab_link": true
    },
    "kernelspec": {
      "name": "python3",
      "display_name": "Python 3"
    },
    "language_info": {
      "name": "python"
    }
  },
  "cells": [
    {
      "cell_type": "markdown",
      "metadata": {
        "id": "view-in-github",
        "colab_type": "text"
      },
      "source": [
        "<a href=\"https://colab.research.google.com/github/Lera1901/Data-with-Pyton/blob/main/DataTypes1.ipynb\" target=\"_parent\"><img src=\"https://colab.research.google.com/assets/colab-badge.svg\" alt=\"Open In Colab\"/></a>"
      ]
    },
    {
      "cell_type": "markdown",
      "source": [
        "Exercise 1"
      ],
      "metadata": {
        "id": "vT6rjSNS6STZ"
      }
    },
    {
      "cell_type": "code",
      "source": [
        "print(\"Hello world\")"
      ],
      "metadata": {
        "colab": {
          "base_uri": "https://localhost:8080/"
        },
        "id": "ZhLcy9sww2FB",
        "outputId": "6afde448-4118-464d-c832-e100becf566d"
      },
      "execution_count": 2,
      "outputs": [
        {
          "output_type": "stream",
          "name": "stdout",
          "text": [
            "Hello world\n"
          ]
        }
      ]
    },
    {
      "cell_type": "markdown",
      "source": [
        "Exercise 2"
      ],
      "metadata": {
        "id": "R0hg6y9q6W-G"
      }
    },
    {
      "cell_type": "code",
      "execution_count": null,
      "metadata": {
        "colab": {
          "base_uri": "https://localhost:8080/"
        },
        "id": "C6dDfYDPncph",
        "outputId": "e65c640b-428b-4fcd-ada9-f77c4d358b61"
      },
      "outputs": [
        {
          "output_type": "stream",
          "name": "stdout",
          "text": [
            "hello Valeria\n"
          ]
        }
      ],
      "source": [
        "name=\"Valeria\"\n",
        "print(\"hello\",name)\n"
      ]
    },
    {
      "cell_type": "markdown",
      "source": [
        "Exercise 3"
      ],
      "metadata": {
        "id": "gjww22dA6Z4k"
      }
    },
    {
      "cell_type": "code",
      "source": [
        "num1=11\n",
        "num2=22\n",
        "total=(num1+num2)\n",
        "print(total)\n",
        "\n"
      ],
      "metadata": {
        "id": "0xaiiB9Xn7Xz",
        "colab": {
          "base_uri": "https://localhost:8080/"
        },
        "outputId": "9db6aa0c-9bc2-48a5-d5b8-2c5cc7bbf514"
      },
      "execution_count": 1,
      "outputs": [
        {
          "output_type": "stream",
          "name": "stdout",
          "text": [
            "23\n"
          ]
        }
      ]
    },
    {
      "cell_type": "markdown",
      "source": [
        "Exercise 4"
      ],
      "metadata": {
        "id": "lqI67h5U6c8q"
      }
    },
    {
      "cell_type": "code",
      "source": [
        "num=[3,15]\n",
        "num1=sum(num)\n",
        "if (num1>=15) and (num1<=20):\n",
        "    print(\"20\")\n",
        "else:\n",
        "    print(\"sum\",num1)\n"
      ],
      "metadata": {
        "colab": {
          "base_uri": "https://localhost:8080/"
        },
        "id": "fbErbSUDz87q",
        "outputId": "54208360-e823-4d8f-d4b8-e55f2c5db410"
      },
      "execution_count": 24,
      "outputs": [
        {
          "output_type": "stream",
          "name": "stdout",
          "text": [
            "20\n"
          ]
        }
      ]
    },
    {
      "cell_type": "markdown",
      "source": [
        "Exercise 5"
      ],
      "metadata": {
        "id": "TlZLkq9P6gOe"
      }
    },
    {
      "cell_type": "code",
      "source": [
        "for x in \"supercalifragilistic\":\n",
        "  print(x)\n",
        "\n"
      ],
      "metadata": {
        "colab": {
          "base_uri": "https://localhost:8080/"
        },
        "id": "2W9l7b_hJTwt",
        "outputId": "e81f7323-8474-42f6-c9c8-bdc7b77565ed"
      },
      "execution_count": 27,
      "outputs": [
        {
          "output_type": "stream",
          "name": "stdout",
          "text": [
            "s\n",
            "u\n",
            "p\n",
            "e\n",
            "r\n",
            "c\n",
            "a\n",
            "l\n",
            "i\n",
            "f\n",
            "r\n",
            "a\n",
            "g\n",
            "i\n",
            "l\n",
            "i\n",
            "s\n",
            "t\n",
            "i\n",
            "c\n"
          ]
        }
      ]
    },
    {
      "cell_type": "markdown",
      "source": [
        "Exercise 6"
      ],
      "metadata": {
        "id": "kZedlyOh6jCV"
      }
    },
    {
      "cell_type": "code",
      "source": [
        " while True:\n",
        "          number = float(input(\"input a whole number  \"))\n",
        "          if number>0:\n",
        "            print(\"Tank you, Goodbye\")\n",
        "            break\n",
        "          else:\n",
        "            print(\"Error\")\n",
        "\n"
      ],
      "metadata": {
        "colab": {
          "base_uri": "https://localhost:8080/"
        },
        "id": "IQgyhPO-J3Kt",
        "outputId": "586fee46-984a-49e5-c6fd-d053af750b99"
      },
      "execution_count": 47,
      "outputs": [
        {
          "output_type": "stream",
          "name": "stdout",
          "text": [
            "input a whole number  -5\n",
            "Error\n",
            "input a whole number  4\n",
            "Tank you, Goodbye\n"
          ]
        }
      ]
    },
    {
      "cell_type": "markdown",
      "source": [
        "Exercise 7"
      ],
      "metadata": {
        "id": "SH6JSKrh6k9G"
      }
    },
    {
      "cell_type": "code",
      "source": [
        "num=[1,87,-1,8,21]\n",
        "sorted_list = sorted(num)\n",
        "print(sorted_list)\n"
      ],
      "metadata": {
        "colab": {
          "base_uri": "https://localhost:8080/"
        },
        "id": "IrS9NQDfPkZZ",
        "outputId": "ec06ef5e-6d52-4fa2-96ed-9cfbf2aeb913"
      },
      "execution_count": 39,
      "outputs": [
        {
          "output_type": "stream",
          "name": "stdout",
          "text": [
            "[-1, 1, 8, 21, 87]\n"
          ]
        }
      ]
    },
    {
      "cell_type": "markdown",
      "source": [
        "Exercise 8"
      ],
      "metadata": {
        "id": "WjZBvBxf6miX"
      }
    },
    {
      "cell_type": "code",
      "source": [
        "person = {}\n",
        "name = input(\"Input your name  \")\n",
        "person[\"Name\"] = name\n",
        "while True:\n",
        "      age = input(\"Input your age  \")\n",
        "      if age.isdigit():\n",
        "         person[\"Age\"] = int(age)\n",
        "         break\n",
        "      else:\n",
        "        print(\"Error:Age must be a number. Try again. \")\n",
        "\n",
        "pd1 = input(\"Input your post code.\")\n",
        "person[\"Post code\"] = pd1\n",
        "\n",
        "print(\"Personal information\")\n",
        "\n",
        "for key,value in person.items():\n",
        "   print(f\"{key}:{value}\")\n",
        "\n"
      ],
      "metadata": {
        "colab": {
          "base_uri": "https://localhost:8080/"
        },
        "id": "yprSDiNvQtTx",
        "outputId": "c9840e80-9b58-48ca-dd23-f17f2ed101f3"
      },
      "execution_count": 8,
      "outputs": [
        {
          "output_type": "stream",
          "name": "stdout",
          "text": [
            "Input your name  David\n",
            "Input your age  jhf\n",
            "Error:Age must be a number. Try again. \n",
            "Input your age  24\n",
            "Input your post code.PH15AJ\n",
            "Personal information\n",
            "Name:David\n",
            "Age:24\n",
            "Post code:PH15AJ\n"
          ]
        }
      ]
    },
    {
      "cell_type": "markdown",
      "source": [
        "Exercise 9"
      ],
      "metadata": {
        "id": "cABJCp0G6phU"
      }
    },
    {
      "cell_type": "code",
      "source": [
        "def squares_list():\n",
        "  squarenum = [x**2 for x in range(1,31)]\n",
        "  return squarenum\n",
        "  #jh\n",
        "result = squares_list()\n",
        "print(result)"
      ],
      "metadata": {
        "colab": {
          "base_uri": "https://localhost:8080/"
        },
        "id": "IOBVa2nKnyzC",
        "outputId": "cd74ae87-8395-4b4c-b812-d11281e69206"
      },
      "execution_count": 38,
      "outputs": [
        {
          "output_type": "stream",
          "name": "stdout",
          "text": [
            "[1, 4, 9, 16, 25, 36, 49, 64, 81, 100, 121, 144, 169, 196, 225, 256, 289, 324, 361, 400, 441, 484, 529, 576, 625, 676, 729, 784, 841, 900]\n"
          ]
        }
      ]
    },
    {
      "cell_type": "markdown",
      "source": [
        "Exercise 10"
      ],
      "metadata": {
        "id": "aJ7dUPvm5V6b"
      }
    },
    {
      "cell_type": "code",
      "source": [
        "def show_mood(mood):\n",
        "  if mood:\n",
        "    return f\"Today, I am feeling {mood}\"\n",
        "  else:\n",
        "    return \"Today, I am feeling neutral\"\n",
        "\n",
        "mood1 = \"Happy\"\n",
        "mood2 = \"Sad\"\n",
        "mood3 = \"\"\n",
        "result1 = show_mood(mood1)\n",
        "result2 = show_mood(mood2)\n",
        "result3 = show_mood(mood3)\n",
        "print(result1)\n",
        "print(result2)\n",
        "print(result3)"
      ],
      "metadata": {
        "colab": {
          "base_uri": "https://localhost:8080/"
        },
        "id": "zC-xNS7w5c7f",
        "outputId": "ff1b244e-e58b-4093-aed1-7a9326f277fe"
      },
      "execution_count": 45,
      "outputs": [
        {
          "output_type": "stream",
          "name": "stdout",
          "text": [
            "Today, I am feeling Happy\n",
            "Today, I am feeling Sad\n",
            "Today, I am feeling neutral\n"
          ]
        }
      ]
    }
  ]
}