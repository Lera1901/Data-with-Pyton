{
  "nbformat": 4,
  "nbformat_minor": 0,
  "metadata": {
    "colab": {
      "provenance": [],
      "authorship_tag": "ABX9TyNV2zpY//KtUJJZVeD1EBq8",
      "include_colab_link": true
    },
    "kernelspec": {
      "name": "python3",
      "display_name": "Python 3"
    },
    "language_info": {
      "name": "python"
    }
  },
  "cells": [
    {
      "cell_type": "markdown",
      "metadata": {
        "id": "view-in-github",
        "colab_type": "text"
      },
      "source": [
        "<a href=\"https://colab.research.google.com/github/Lera1901/Data-with-Pyton/blob/main/02_DataTypes2.ipynb\" target=\"_parent\"><img src=\"https://colab.research.google.com/assets/colab-badge.svg\" alt=\"Open In Colab\"/></a>"
      ]
    },
    {
      "cell_type": "code",
      "execution_count": null,
      "metadata": {
        "id": "wD6hlowb-NY5"
      },
      "outputs": [],
      "source": []
    },
    {
      "cell_type": "markdown",
      "source": [
        "Exercise 1"
      ],
      "metadata": {
        "id": "RA6ebS6D-N8K"
      }
    },
    {
      "cell_type": "code",
      "source": [
        "def print_details():\n",
        "    name = input(\"What is your name? \")\n",
        "    age = int(input(\"How old are you? \"))\n",
        "    height = float(input(\"What is your height metres?\"))\n",
        "    print(f\"Hello {name},you are {age} years old and {height} metres tall\")\n",
        "print_details()"
      ],
      "metadata": {
        "colab": {
          "base_uri": "https://localhost:8080/"
        },
        "id": "MoSQWVYk-QR4",
        "outputId": "869072ba-7720-4fbf-ebee-ab276d4a019d"
      },
      "execution_count": 10,
      "outputs": [
        {
          "output_type": "stream",
          "name": "stdout",
          "text": [
            "What is your name? Laura\n",
            "How old are you? 45\n",
            "What is your height metres?1.86\n",
            "Hello Laura,you are 45 years old and 1.86 metres tall\n"
          ]
        }
      ]
    },
    {
      "cell_type": "markdown",
      "source": [
        "Exercise 2"
      ],
      "metadata": {
        "id": "UuLUD_0V_rmJ"
      }
    },
    {
      "cell_type": "code",
      "source": [
        "def show_trueFalse():\n",
        "   logged_in = True\n",
        "   logged_in_as_num = int(True)\n",
        "   print(logged_in,\" \",logged_in_as_num)\n",
        "\n",
        "   logged_in = False\n",
        "   logged_in_as_num = int(False)\n",
        "   print(logged_in,\" \",logged_in_as_num)\n",
        "\n",
        "show_trueFalse()"
      ],
      "metadata": {
        "colab": {
          "base_uri": "https://localhost:8080/"
        },
        "id": "XLB2OYME_yPS",
        "outputId": "430e87ba-0894-406d-877f-278d4f06a2a4"
      },
      "execution_count": 16,
      "outputs": [
        {
          "output_type": "stream",
          "name": "stdout",
          "text": [
            "True   1\n",
            "False   0\n"
          ]
        }
      ]
    },
    {
      "cell_type": "markdown",
      "source": [
        "Exercise 3\n"
      ],
      "metadata": {
        "id": "Hfh8S_7VCgFO"
      }
    },
    {
      "cell_type": "code",
      "source": [
        "def count_poundCoins():\n",
        "    pounds_pence = float(input(\"enter an amount in pounds and pence\"))\n",
        "    pound_coins = int(pounds_pence)\n",
        "    print(\"Number of pound coins\",\" \",pound_coins )\n",
        "count_poundCoins()"
      ],
      "metadata": {
        "id": "Xhp2k60GCo2k",
        "outputId": "b81936b5-99e7-4ed9-8717-7ff91a725be6",
        "colab": {
          "base_uri": "https://localhost:8080/"
        }
      },
      "execution_count": 17,
      "outputs": [
        {
          "output_type": "stream",
          "name": "stdout",
          "text": [
            "enter an amount in pounds and pence5.48\n",
            "Number of pound coins   5\n"
          ]
        }
      ]
    },
    {
      "cell_type": "markdown",
      "source": [
        "Exercise 4"
      ],
      "metadata": {
        "id": "u2-_9SuVDwhQ"
      }
    },
    {
      "cell_type": "code",
      "source": [
        "def format_currency():\n",
        "    num_pounds = int(input(\"enter a number of pounds\"))\n",
        "    pounds = str(num_pounds)\n",
        "    currency = \"£\" + pounds + \".00\"\n",
        "    print(currency)\n",
        "format_currency()"
      ],
      "metadata": {
        "id": "c66ASZEiDzK0",
        "outputId": "5e916d56-76f9-4ab7-d902-2df2bfb7d18e",
        "colab": {
          "base_uri": "https://localhost:8080/"
        }
      },
      "execution_count": 19,
      "outputs": [
        {
          "output_type": "stream",
          "name": "stdout",
          "text": [
            "enter a number of pounds5\n",
            "£5.00\n"
          ]
        }
      ]
    },
    {
      "cell_type": "markdown",
      "source": [
        "Exercise 5"
      ],
      "metadata": {
        "id": "fwCZUMtmFaE3"
      }
    },
    {
      "cell_type": "code",
      "source": [
        "def calculate_area():\n",
        "   radius = float(input(\"enter the radius of a circle\"))\n",
        "   pi = 3.14159\n",
        "   area = pi * radius * radius\n",
        "   print(\"The area of the circle is:\",round(area,2))\n",
        "calculate_area()"
      ],
      "metadata": {
        "id": "uKRd2bcdFcf-",
        "outputId": "4517a7b7-11c4-49d9-a153-5df0cca9789a",
        "colab": {
          "base_uri": "https://localhost:8080/"
        }
      },
      "execution_count": 33,
      "outputs": [
        {
          "output_type": "stream",
          "name": "stdout",
          "text": [
            "enter the radius of a circle5\n",
            "The area of the circle is: 78.54\n"
          ]
        }
      ]
    }
  ]
}