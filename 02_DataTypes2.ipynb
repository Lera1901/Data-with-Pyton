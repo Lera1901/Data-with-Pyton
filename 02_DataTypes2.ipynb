{
  "nbformat": 4,
  "nbformat_minor": 0,
  "metadata": {
    "colab": {
      "provenance": [],
      "authorship_tag": "ABX9TyODIxEAcJwoXJWODbuNOkle",
      "include_colab_link": true
    },
    "kernelspec": {
      "name": "python3",
      "display_name": "Python 3"
    },
    "language_info": {
      "name": "python"
    }
  },
  "cells": [
    {
      "cell_type": "markdown",
      "metadata": {
        "id": "view-in-github",
        "colab_type": "text"
      },
      "source": [
        "<a href=\"https://colab.research.google.com/github/Lera1901/Data-with-Pyton/blob/main/02_DataTypes2.ipynb\" target=\"_parent\"><img src=\"https://colab.research.google.com/assets/colab-badge.svg\" alt=\"Open In Colab\"/></a>"
      ]
    },
    {
      "cell_type": "code",
      "execution_count": null,
      "metadata": {
        "id": "wD6hlowb-NY5"
      },
      "outputs": [],
      "source": []
    },
    {
      "cell_type": "markdown",
      "source": [
        "Exercise 1"
      ],
      "metadata": {
        "id": "RA6ebS6D-N8K"
      }
    },
    {
      "cell_type": "code",
      "source": [
        "def print_details():\n",
        "    name = input(\"What is your name? \")\n",
        "    age = int(input(\"How old are you? \"))\n",
        "    height = float(input(\"What is your height metres?\"))\n",
        "    print(f\"Hello {name},you are {age} years old and {height} metres tall\")\n",
        "print_details()"
      ],
      "metadata": {
        "colab": {
          "base_uri": "https://localhost:8080/"
        },
        "id": "MoSQWVYk-QR4",
        "outputId": "869072ba-7720-4fbf-ebee-ab276d4a019d"
      },
      "execution_count": 10,
      "outputs": [
        {
          "output_type": "stream",
          "name": "stdout",
          "text": [
            "What is your name? Laura\n",
            "How old are you? 45\n",
            "What is your height metres?1.86\n",
            "Hello Laura,you are 45 years old and 1.86 metres tall\n"
          ]
        }
      ]
    },
    {
      "cell_type": "markdown",
      "source": [
        "Exercise 2"
      ],
      "metadata": {
        "id": "UuLUD_0V_rmJ"
      }
    },
    {
      "cell_type": "code",
      "source": [],
      "metadata": {
        "id": "XLB2OYME_yPS"
      },
      "execution_count": null,
      "outputs": []
    }
  ]
}