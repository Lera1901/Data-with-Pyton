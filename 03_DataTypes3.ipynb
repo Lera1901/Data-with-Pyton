{
  "nbformat": 4,
  "nbformat_minor": 0,
  "metadata": {
    "colab": {
      "provenance": [],
      "authorship_tag": "ABX9TyMnBaHhU3BL4iVVca9a1z44",
      "include_colab_link": true
    },
    "kernelspec": {
      "name": "python3",
      "display_name": "Python 3"
    },
    "language_info": {
      "name": "python"
    }
  },
  "cells": [
    {
      "cell_type": "markdown",
      "metadata": {
        "id": "view-in-github",
        "colab_type": "text"
      },
      "source": [
        "<a href=\"https://colab.research.google.com/github/Lera1901/Data-with-Pyton/blob/main/03_DataTypes3.ipynb\" target=\"_parent\"><img src=\"https://colab.research.google.com/assets/colab-badge.svg\" alt=\"Open In Colab\"/></a>"
      ]
    },
    {
      "cell_type": "code",
      "execution_count": null,
      "metadata": {
        "id": "ur0ZCHve3cXU"
      },
      "outputs": [],
      "source": []
    },
    {
      "cell_type": "markdown",
      "source": [
        "Exercise 1"
      ],
      "metadata": {
        "id": "qLUYeKMk3dhb"
      }
    },
    {
      "cell_type": "code",
      "source": [
        "def print_initials():\n",
        "  var_Name = input(\"Enter your fist name \")\n",
        "  var_Middlename = input(\"Enter your middle name \")\n",
        "  var_surname = input(\"Enter your surname \")\n",
        "  print(var_Name,var_surname,var_Middlename)\n",
        "print_initials()"
      ],
      "metadata": {
        "colab": {
          "base_uri": "https://localhost:8080/"
        },
        "id": "IwvqGj1b3jI_",
        "outputId": "2b2d70ee-6a0f-4729-d27d-ba04b5b3007f"
      },
      "execution_count": 2,
      "outputs": [
        {
          "output_type": "stream",
          "name": "stdout",
          "text": [
            "Enter your fist name Peter\n",
            "Enter your middle name Barry\n",
            "Enter your surname Burrows\n",
            "Peter Burrows Barry\n"
          ]
        }
      ]
    },
    {
      "cell_type": "markdown",
      "source": [
        "Exercise 2"
      ],
      "metadata": {
        "id": "2O3pbokg6Jzm"
      }
    },
    {
      "cell_type": "code",
      "source": [
        "def print_substring():\n",
        "  name = input(\"enter a name of at least 5 letters  \")\n",
        "  first_letters = name[0]\n",
        "  fourth_letters = name[3]\n",
        "  print(\"First letter is\",first_letters,\"fourth letter is\",fourth_letters)\n",
        "print_substring()"
      ],
      "metadata": {
        "colab": {
          "base_uri": "https://localhost:8080/"
        },
        "id": "nZTDi_zl6Mt6",
        "outputId": "4726d418-1a12-4795-a197-447874cb165d"
      },
      "execution_count": 5,
      "outputs": [
        {
          "output_type": "stream",
          "name": "stdout",
          "text": [
            "enter a name of at least 5 letters  Bartholomew\n",
            "First letter is B fourth letter is t\n"
          ]
        }
      ]
    },
    {
      "cell_type": "markdown",
      "source": [
        "Exercise 3"
      ],
      "metadata": {
        "id": "rFIMUfaG9OBs"
      }
    },
    {
      "cell_type": "code",
      "source": [
        "def print_formatted():\n",
        "  house_number = int(input(\"Input house number\"))\n",
        "  road_name = input(\"Input road name\")\n",
        "  town = input(\"Input town\")\n",
        "  postcode = input(\"Input postcode\")\n",
        "  print(\"you have entered the following information\")\n",
        "  print(house_number,\",\",road_name)\n",
        "  print(town)\n",
        "  print(postcode)\n",
        "print_formatted()"
      ],
      "metadata": {
        "colab": {
          "base_uri": "https://localhost:8080/"
        },
        "id": "Z4FsyRqf9QOh",
        "outputId": "1642b76b-5e1d-46da-b275-0f64c35ce4b8"
      },
      "execution_count": 7,
      "outputs": [
        {
          "output_type": "stream",
          "name": "stdout",
          "text": [
            "Input house number10\n",
            "Input road nameOld Road\n",
            "Input townChatham\n",
            "Input postcodeME4 1AA\n",
            "you have entered the following information\n",
            "10 , Old Road\n",
            "Chatham\n",
            "ME4 1AA\n"
          ]
        }
      ]
    },
    {
      "cell_type": "markdown",
      "source": [
        "Exercise 4"
      ],
      "metadata": {
        "id": "Kmiyb8AH_YHw"
      }
    },
    {
      "cell_type": "code",
      "source": [
        "def print_namelength():\n",
        "  name = input(\"Enter name\")\n",
        "  name_length = len(name)\n",
        "  print(name,name_length, \"characters\")\n",
        "print_namelength()"
      ],
      "metadata": {
        "colab": {
          "base_uri": "https://localhost:8080/"
        },
        "id": "d8yv49-E_aDr",
        "outputId": "cdb85f20-d3f6-4390-906b-6e8cadd53c8b"
      },
      "execution_count": 8,
      "outputs": [
        {
          "output_type": "stream",
          "name": "stdout",
          "text": [
            "Enter nameWilliam\n",
            "William 7 characters\n"
          ]
        }
      ]
    },
    {
      "cell_type": "markdown",
      "source": [
        "Exercise 5"
      ],
      "metadata": {
        "id": "po1NFMnYAEY9"
      }
    },
    {
      "cell_type": "code",
      "source": [
        "def convert_to_capitals():\n",
        "  name = input(\"input a name in lowercase letters  \")\n",
        "  capitalised_name = name.upper()\n",
        "  print(capitalised_name)\n",
        "convert_to_capitals()"
      ],
      "metadata": {
        "colab": {
          "base_uri": "https://localhost:8080/"
        },
        "id": "qE58uoOCAHoG",
        "outputId": "2b1388c9-d9c4-430b-c1b6-54313cd79758"
      },
      "execution_count": 12,
      "outputs": [
        {
          "output_type": "stream",
          "name": "stdout",
          "text": [
            "input a name in lowercase letters  valeria\n",
            "VALERIA\n"
          ]
        }
      ]
    },
    {
      "cell_type": "markdown",
      "source": [
        "Exercise 6"
      ],
      "metadata": {
        "id": "JGn5Ao3QBkwe"
      }
    },
    {
      "cell_type": "code",
      "source": [
        "def capitalise_names():\n",
        "  name = input(\"input your name \")\n",
        "  surname = input(\"input your surname \")\n",
        "  capitalised_name = name.capitalize()\n",
        "  capitalised_surname = surname.capitalize()\n",
        "  print(capitalised_name,capitalised_surname)\n",
        "capitalise_names()"
      ],
      "metadata": {
        "colab": {
          "base_uri": "https://localhost:8080/"
        },
        "id": "m6V2NJsIBnFd",
        "outputId": "2d0696cc-49a3-4e8b-cff4-84d45b65f73b"
      },
      "execution_count": 14,
      "outputs": [
        {
          "output_type": "stream",
          "name": "stdout",
          "text": [
            "input your name BenJaMin\n",
            "input your surname FrAnKlin\n",
            "Benjamin Franklin\n"
          ]
        }
      ]
    },
    {
      "cell_type": "markdown",
      "source": [
        "Exercise 7"
      ],
      "metadata": {
        "id": "NfD9DvGrDNK4"
      }
    },
    {
      "cell_type": "code",
      "source": [
        "def print_postcode_letters():\n",
        "  postcode = input(\"input your postcode \")\n",
        "  postcode_area = postcode[0:2]\n",
        "  capitalised_area = postcode_area.upper()\n",
        "  print(capitalised_area)\n",
        "print_postcode_letters()"
      ],
      "metadata": {
        "colab": {
          "base_uri": "https://localhost:8080/"
        },
        "id": "UuekDLgnDPQp",
        "outputId": "05166364-9902-4468-923a-38ee0dd9f3d2"
      },
      "execution_count": 17,
      "outputs": [
        {
          "output_type": "stream",
          "name": "stdout",
          "text": [
            "input your postcode Pf185fj\n",
            "PF\n"
          ]
        }
      ]
    },
    {
      "cell_type": "markdown",
      "source": [
        "Exercise 8"
      ],
      "metadata": {
        "id": "cGTG-rACEeZH"
      }
    },
    {
      "cell_type": "code",
      "source": [
        "def print_half_word():\n",
        "  word = input(\"input word  \")\n",
        "  half_length = len(word)//2\n",
        "  half_word = word[0:half_length]\n",
        "  print(half_word)\n",
        "print_half_word()"
      ],
      "metadata": {
        "colab": {
          "base_uri": "https://localhost:8080/"
        },
        "id": "0kzZuXnJEhZf",
        "outputId": "c23b31f9-6429-4e94-b666-ecf96a80e073"
      },
      "execution_count": 19,
      "outputs": [
        {
          "output_type": "stream",
          "name": "stdout",
          "text": [
            "input word  london\n",
            "lon\n"
          ]
        }
      ]
    },
    {
      "cell_type": "markdown",
      "source": [
        "Exercise 9"
      ],
      "metadata": {
        "id": "ai-4V6hAF7qm"
      }
    },
    {
      "cell_type": "code",
      "source": [
        "def repeat_two_letters():\n",
        "  word = input(\"input word  \")\n",
        "  last_two = word[-2:]\n",
        "  five_copies = last_two*5\n",
        "  print(five_copies)\n",
        "repeat_two_letters()"
      ],
      "metadata": {
        "colab": {
          "base_uri": "https://localhost:8080/"
        },
        "id": "ThP4nhZ_F-v2",
        "outputId": "682fee50-4148-485e-f807-0f676aea9fc0"
      },
      "execution_count": 21,
      "outputs": [
        {
          "output_type": "stream",
          "name": "stdout",
          "text": [
            "input word  Data\n",
            "tatatatata\n"
          ]
        }
      ]
    },
    {
      "cell_type": "markdown",
      "source": [
        "Exercise 10"
      ],
      "metadata": {
        "id": "Xeww-455G3QF"
      }
    },
    {
      "cell_type": "code",
      "source": [
        "def lowerCase_threeLetters():\n",
        "  month = \"january\"\n",
        "  month_short = month[:3].upper()\n",
        "  month_rest = month[3:]\n",
        "  month = month_short + month_rest\n",
        "  print(month)\n",
        "lowerCase_threeLetters()\n"
      ],
      "metadata": {
        "colab": {
          "base_uri": "https://localhost:8080/"
        },
        "id": "uGxX_jAdG59M",
        "outputId": "1b7f5a90-c67e-4895-9982-7bf8959723b2"
      },
      "execution_count": 24,
      "outputs": [
        {
          "output_type": "stream",
          "name": "stdout",
          "text": [
            "JANuary\n"
          ]
        }
      ]
    }
  ]
}