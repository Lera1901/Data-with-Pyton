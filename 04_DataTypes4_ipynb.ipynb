{
  "nbformat": 4,
  "nbformat_minor": 0,
  "metadata": {
    "colab": {
      "provenance": [],
      "authorship_tag": "ABX9TyO0+xYkciUUkDH5O1YauX3f",
      "include_colab_link": true
    },
    "kernelspec": {
      "name": "python3",
      "display_name": "Python 3"
    },
    "language_info": {
      "name": "python"
    }
  },
  "cells": [
    {
      "cell_type": "markdown",
      "metadata": {
        "id": "view-in-github",
        "colab_type": "text"
      },
      "source": [
        "<a href=\"https://colab.research.google.com/github/Lera1901/Data-with-Pyton/blob/main/04_DataTypes4_ipynb.ipynb\" target=\"_parent\"><img src=\"https://colab.research.google.com/assets/colab-badge.svg\" alt=\"Open In Colab\"/></a>"
      ]
    },
    {
      "cell_type": "code",
      "execution_count": null,
      "metadata": {
        "id": "aCfIdaQ-PDmY"
      },
      "outputs": [],
      "source": []
    },
    {
      "cell_type": "markdown",
      "source": [
        "Exercise 1"
      ],
      "metadata": {
        "id": "Wmgo3dbWPEDU"
      }
    },
    {
      "cell_type": "code",
      "source": [
        "def print_dog_human_age():\n",
        "  dog_age = int(input(\"input their dog's age  \"))\n",
        "  dog_human_age = dog_age*7\n",
        "  print(dog_human_age)\n",
        "print_dog_human_age()"
      ],
      "metadata": {
        "colab": {
          "base_uri": "https://localhost:8080/"
        },
        "id": "fB8ZRYc_PHlJ",
        "outputId": "347fd03b-bf36-4985-df04-e33096acc2bb"
      },
      "execution_count": null,
      "outputs": [
        {
          "output_type": "stream",
          "name": "stdout",
          "text": [
            "input their dog's age  7\n",
            "49\n"
          ]
        }
      ]
    },
    {
      "cell_type": "markdown",
      "source": [
        "Exercise 2"
      ],
      "metadata": {
        "id": "wT3Ua1c4PrML"
      }
    },
    {
      "cell_type": "code",
      "source": [
        "def calculate_average():\n",
        "  num1 = float(input(\"input first number \"))\n",
        "  num2 = float(input(\"input second number \"))\n",
        "  num3 = float(input(\"input third number \"))\n",
        "  average = (num1 + num2 +num3 ) / 3\n",
        "  print(round(average,2))\n",
        "calculate_average()"
      ],
      "metadata": {
        "colab": {
          "base_uri": "https://localhost:8080/"
        },
        "id": "vb45MImcPtsj",
        "outputId": "e4e295b6-6ecc-4e93-dc90-01d7ef4bbeb9"
      },
      "execution_count": null,
      "outputs": [
        {
          "output_type": "stream",
          "name": "stdout",
          "text": [
            "input first number 5\n",
            "input second number 3\n",
            "input third number 9\n",
            "5.67\n"
          ]
        }
      ]
    },
    {
      "cell_type": "markdown",
      "source": [
        "Exercise 3"
      ],
      "metadata": {
        "id": "QXEWJOpITtBH"
      }
    },
    {
      "cell_type": "code",
      "source": [
        "def calculate_avg_height():\n",
        "  height = float(input(\"input their height\"))\n",
        "  height_centimeters  = round(height*100)\n",
        "  print(height_centimeters)\n",
        "calculate_avg_height()"
      ],
      "metadata": {
        "colab": {
          "base_uri": "https://localhost:8080/"
        },
        "id": "wdQtJLvETvvK",
        "outputId": "a66b0649-24e1-41e2-de55-fbf303f468a8"
      },
      "execution_count": null,
      "outputs": [
        {
          "output_type": "stream",
          "name": "stdout",
          "text": [
            "input their height1.67\n",
            "167\n"
          ]
        }
      ]
    },
    {
      "cell_type": "markdown",
      "source": [
        "Exercise 4\n"
      ],
      "metadata": {
        "id": "TPpkwum-UlAr"
      }
    },
    {
      "cell_type": "code",
      "source": [
        "def convert_currency():\n",
        "  pounds = float(input(\"input an amount in pounds \"))\n",
        "  euros = round(pounds*1.16,2)\n",
        "  print(\"Є\",euros)\n",
        "convert_currency()"
      ],
      "metadata": {
        "colab": {
          "base_uri": "https://localhost:8080/"
        },
        "id": "FZ2DUcfxUw1l",
        "outputId": "a08bf4b5-9e44-4aae-c696-baa5b9718191"
      },
      "execution_count": null,
      "outputs": [
        {
          "output_type": "stream",
          "name": "stdout",
          "text": [
            "input an amount in pounds 60\n",
            "Є 69.6\n"
          ]
        }
      ]
    },
    {
      "cell_type": "markdown",
      "source": [
        "Exercise 5"
      ],
      "metadata": {
        "id": "pWllXC7VW66G"
      }
    },
    {
      "cell_type": "code",
      "source": [
        "def calculate_stats():\n",
        "  num1 = 3.145\n",
        "  num2 = 5.6723\n",
        "  num3 = 9.34\n",
        "  total = round((num1+num2+num3),2)\n",
        "  average = round(total/3,3)\n",
        "  print(\"The total of the three numbers is\",total)\n",
        "  print(\"The average of the three numbers is\",average)\n",
        "calculate_stats()"
      ],
      "metadata": {
        "colab": {
          "base_uri": "https://localhost:8080/"
        },
        "id": "2revgWvPW95_",
        "outputId": "05bccb33-bd05-47fc-a203-d7ef09c3b74e"
      },
      "execution_count": null,
      "outputs": [
        {
          "output_type": "stream",
          "name": "stdout",
          "text": [
            "The total of the three numbers is 18.16\n",
            "The average of the three numbers is 6.053\n"
          ]
        }
      ]
    },
    {
      "cell_type": "markdown",
      "source": [
        "Exersice 6"
      ],
      "metadata": {
        "id": "D2fqa_N9VxM-"
      }
    },
    {
      "cell_type": "code",
      "source": [
        "def calculate_volume():\n",
        "  base = 3.2\n",
        "  width = 5.6\n",
        "  height = 7.8\n",
        "  box_volume = round(3.2*5.6*7.8,1)\n",
        "  print(\"Volume \",box_volume)\n",
        "calculate_volume()"
      ],
      "metadata": {
        "colab": {
          "base_uri": "https://localhost:8080/"
        },
        "id": "xRMBwiUzV0Rg",
        "outputId": "1be98a57-dff2-4072-c385-7d1c55b4a386"
      },
      "execution_count": null,
      "outputs": [
        {
          "output_type": "stream",
          "name": "stdout",
          "text": [
            "Volume  139.8\n"
          ]
        }
      ]
    },
    {
      "cell_type": "markdown",
      "source": [
        "Exercise 7"
      ],
      "metadata": {
        "id": "xbTBbqN3ymNj"
      }
    },
    {
      "cell_type": "code",
      "source": [
        "def calculate_boxes(base, width, height):\n",
        "  box_volume = base*width*height\n",
        "  total_volume = float(input(\"Enter the total volume of your stuff:\"))\n",
        "  number_of_boxes = total_volume/box_volume\n",
        "  print(round(number_of_boxes))\n",
        "calculate_boxes(3.2, 5.6, 7.8)"
      ],
      "metadata": {
        "id": "nwvNprafysv7",
        "outputId": "6ee86c62-a7c6-4ab5-f6ab-3410eb4c94f9",
        "colab": {
          "base_uri": "https://localhost:8080/"
        }
      },
      "execution_count": null,
      "outputs": [
        {
          "output_type": "stream",
          "name": "stdout",
          "text": [
            "Enter the total volume of your stuff:1500\n",
            "11\n"
          ]
        }
      ]
    },
    {
      "cell_type": "markdown",
      "source": [
        "Exercise 8"
      ],
      "metadata": {
        "id": "3G81BVnc2ZAp"
      }
    },
    {
      "cell_type": "code",
      "source": [
        "def calculate_parcel_weight():\n",
        "  weight1 = float(input(\"enter the weights, in kg, of 1 parcel:\"))\n",
        "  weight2 = float(input(\"enter the weights, in kg, of 2 parcel:\"))\n",
        "  weight3 = float(input(\"enter the weights, in kg, of 3 parcel:\"))\n",
        "  weight4 = float(input(\"enter the weights, in kg, of 4 parcel:\"))\n",
        "  total_parcel_weight = weight1+weight2+weight3+weight4\n",
        "  parcel_weight = round(total_parcel_weight)\n",
        "  print(parcel_weight,\"kg\")\n",
        "calculate_parcel_weight()"
      ],
      "metadata": {
        "id": "MQwqywoa2bp7",
        "outputId": "46126d16-a87a-4139-db84-401d86d38b7c",
        "colab": {
          "base_uri": "https://localhost:8080/"
        }
      },
      "execution_count": null,
      "outputs": [
        {
          "output_type": "stream",
          "name": "stdout",
          "text": [
            "enter the weights, in kg, of 1 parcel:1.23\n",
            "enter the weights, in kg, of 2 parcel:2.84\n",
            "enter the weights, in kg, of 3 parcel:1.675\n",
            "enter the weights, in kg, of 4 parcel:3.03\n",
            "9 kg\n"
          ]
        }
      ]
    },
    {
      "cell_type": "markdown",
      "source": [
        "Exercise 9"
      ],
      "metadata": {
        "id": "l4JZ6btC8nH3"
      }
    },
    {
      "cell_type": "code",
      "source": [
        "def  get_pm_minutes():\n",
        "  time = int(input(\"enter an afternoon time in 24 hour clock:\"))\n",
        "  hour = time//100\n",
        "  minutes = time%100\n",
        "  if hour >= 12:\n",
        "        if hour > 12:\n",
        "            hour -= 12\n",
        "        period = \"PM\"\n",
        "  else:\n",
        "        period = \"AM\"\n",
        "  print(\"It is\",minutes,\"past\",hour,period)\n",
        "\n",
        "get_pm_minutes()"
      ],
      "metadata": {
        "id": "7ltcA39B8se2",
        "outputId": "94949231-e7da-4b9c-8023-081b7f57693f",
        "colab": {
          "base_uri": "https://localhost:8080/"
        }
      },
      "execution_count": null,
      "outputs": [
        {
          "output_type": "stream",
          "name": "stdout",
          "text": [
            "enter an afternoon time in 24 hour clock:830\n",
            "It is 30 past 8 AM\n"
          ]
        }
      ]
    },
    {
      "cell_type": "markdown",
      "source": [
        "Exercise 10"
      ],
      "metadata": {
        "id": "qcov990m_hvL"
      }
    },
    {
      "cell_type": "code",
      "source": [
        "def calculate_tins(height, width, depth):\n",
        "  tall = 11\n",
        "  diameter = 8\n",
        "  l_height = height//tall\n",
        "  t_width = width//diameter\n",
        "  t_depth = depth//diameter\n",
        "  number_of_tins = l_height*t_width*t_depth\n",
        "  print(number_of_tins,\"tins will fit in this box\")\n",
        "calculate_tins(24, 50, 18)"
      ],
      "metadata": {
        "id": "khffgD2h_kWL",
        "outputId": "f010277d-6110-4119-e818-4bfadd20e37c",
        "colab": {
          "base_uri": "https://localhost:8080/"
        }
      },
      "execution_count": null,
      "outputs": [
        {
          "output_type": "stream",
          "name": "stdout",
          "text": [
            "24 tins will fit in this box\n"
          ]
        }
      ]
    }
  ]
}