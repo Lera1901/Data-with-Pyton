{
  "nbformat": 4,
  "nbformat_minor": 0,
  "metadata": {
    "colab": {
      "provenance": [],
      "authorship_tag": "ABX9TyNjL5uS1keGBLVW9c5c5YU3",
      "include_colab_link": true
    },
    "kernelspec": {
      "name": "python3",
      "display_name": "Python 3"
    },
    "language_info": {
      "name": "python"
    }
  },
  "cells": [
    {
      "cell_type": "markdown",
      "metadata": {
        "id": "view-in-github",
        "colab_type": "text"
      },
      "source": [
        "<a href=\"https://colab.research.google.com/github/Lera1901/Data-with-Pyton/blob/main/05_DataTypes5.ipynb\" target=\"_parent\"><img src=\"https://colab.research.google.com/assets/colab-badge.svg\" alt=\"Open In Colab\"/></a>"
      ]
    },
    {
      "cell_type": "code",
      "execution_count": null,
      "metadata": {
        "id": "vXWBD4PnEdr8"
      },
      "outputs": [],
      "source": []
    },
    {
      "cell_type": "markdown",
      "source": [
        "Exercise 1"
      ],
      "metadata": {
        "id": "p4KVhbhYEedP"
      }
    },
    {
      "cell_type": "code",
      "source": [
        "def calculate_running_total():\n",
        "  total = 0\n",
        "  for i in range(3):\n",
        "    number = float(input(\" enter a number:\"))\n",
        "    total +=number\n",
        "  print(round(total))\n",
        "\n",
        "calculate_running_total()"
      ],
      "metadata": {
        "colab": {
          "base_uri": "https://localhost:8080/"
        },
        "id": "V6YE-04HEggc",
        "outputId": "206c40a0-d0d7-4489-ce4b-d8a258f40416"
      },
      "execution_count": 4,
      "outputs": [
        {
          "output_type": "stream",
          "name": "stdout",
          "text": [
            " enter a number:5\n",
            " enter a number:6\n",
            " enter a number:7\n",
            "18\n"
          ]
        }
      ]
    },
    {
      "cell_type": "markdown",
      "source": [
        "Exercise 2"
      ],
      "metadata": {
        "id": "OWmLKENyKt53"
      }
    },
    {
      "cell_type": "code",
      "source": [
        "def decrease_time_left():\n",
        "  seconds_left = 60\n",
        "  for i in range(2):\n",
        "    time = float(input(\" enter a time in seconds:\"))\n",
        "    seconds_left-=time\n",
        "  print(round(seconds_left),\"seconds left\")\n",
        "decrease_time_left()"
      ],
      "metadata": {
        "colab": {
          "base_uri": "https://localhost:8080/"
        },
        "id": "2BwfSQxdKw0d",
        "outputId": "ed437159-07af-4288-a766-29b71e6a6ca8"
      },
      "execution_count": 6,
      "outputs": [
        {
          "output_type": "stream",
          "name": "stdout",
          "text": [
            " enter a time in seconds:10\n",
            " enter a time in seconds:20\n",
            "30 seconds left\n"
          ]
        }
      ]
    },
    {
      "cell_type": "markdown",
      "source": [
        "Exercise 3"
      ],
      "metadata": {
        "id": "l_km9VtYRD8N"
      }
    },
    {
      "cell_type": "code",
      "source": [
        "def decrease_by_factor():\n",
        "   factor = float(input(\" enter factor to decrease by (a whole number between 2 and 8:\"))\n",
        "   number = float(input(\" enter a whole number:\"))\n",
        "   for i in range(2):\n",
        "      number //= factor\n",
        "   print(round(number))\n",
        "decrease_by_factor()"
      ],
      "metadata": {
        "colab": {
          "base_uri": "https://localhost:8080/"
        },
        "id": "8ahEkPq4RGNT",
        "outputId": "2d229700-4147-430d-9a73-a956713d1752"
      },
      "execution_count": 9,
      "outputs": [
        {
          "output_type": "stream",
          "name": "stdout",
          "text": [
            " enter factor to decrease by (a whole number between 2 and 8:5\n",
            " enter a whole number:100\n",
            "4\n"
          ]
        }
      ]
    },
    {
      "cell_type": "markdown",
      "source": [
        "Exercise 4"
      ],
      "metadata": {
        "id": "1d0kPQi3TKIq"
      }
    },
    {
      "cell_type": "code",
      "source": [
        "def generate_powers():\n",
        "  number = 1\n",
        "  multiplier = 4\n",
        "  number*=multiplier\n",
        "  print(number)\n",
        "  number*=multiplier\n",
        "  print(number)\n",
        "  number*=multiplier\n",
        "  print(number)\n",
        "  number*=multiplier\n",
        "  print(number)\n",
        "  number*=multiplier\n",
        "  print(number)\n",
        "  number*=multiplier\n",
        "  print(number)\n",
        "  number*=multiplier\n",
        "  print(number)\n",
        "  number*=multiplier\n",
        "  print(number)\n",
        "  number*=multiplier\n",
        "  print(number)\n",
        "  number*=multiplier\n",
        "  print(number)\n",
        "generate_powers()"
      ],
      "metadata": {
        "colab": {
          "base_uri": "https://localhost:8080/"
        },
        "id": "lZQuBZfrTNWn",
        "outputId": "8ac5c002-620b-4d23-f75b-d215e600191c"
      },
      "execution_count": 12,
      "outputs": [
        {
          "output_type": "stream",
          "name": "stdout",
          "text": [
            "4\n",
            "16\n",
            "64\n",
            "256\n",
            "1024\n",
            "4096\n",
            "16384\n",
            "65536\n",
            "262144\n",
            "1048576\n"
          ]
        }
      ]
    },
    {
      "cell_type": "markdown",
      "source": [
        "Exercise 5"
      ],
      "metadata": {
        "id": "oppW9_7MVKmZ"
      }
    },
    {
      "cell_type": "code",
      "source": [
        "def is_afternoon():\n",
        "  time = float(input(\"enter a time in 24 hour clock format as a whole number (e.g. 1756)\"))\n",
        "  hour = time//100\n",
        "  afternoon = hour >= 12\n",
        "  print(\"it is afternoon\",afternoon)\n",
        "\n",
        "is_afternoon()\n"
      ],
      "metadata": {
        "colab": {
          "base_uri": "https://localhost:8080/"
        },
        "id": "7PCwtsYwVN7A",
        "outputId": "2df04ea6-830e-442d-e962-e753976fae02"
      },
      "execution_count": 18,
      "outputs": [
        {
          "output_type": "stream",
          "name": "stdout",
          "text": [
            "enter a time in 24 hour clock format as a whole number (e.g. 1756)1145\n",
            "it is afternoon False\n"
          ]
        }
      ]
    },
    {
      "cell_type": "markdown",
      "source": [
        "Exercise 6"
      ],
      "metadata": {
        "id": "NRzIaoYobQFV"
      }
    },
    {
      "cell_type": "code",
      "source": [
        "from random import randint\n",
        "def guess_number(number):\n",
        "\n",
        "   guess = float(input(\"enter a guess between 1 and 10:\"))\n",
        "   correct = guess == number\n",
        "   print(\"Guess 1 correct?\", correct)\n",
        "   guess = float(input(\"enter a guess between 1 and 10:\"))\n",
        "   correct = guess == number\n",
        "   print(\"Guess 2 correct?\", correct)\n",
        "   number = 6\n",
        "guess_number(randint(0,10))"
      ],
      "metadata": {
        "colab": {
          "base_uri": "https://localhost:8080/"
        },
        "id": "vuYFL0vfbSqK",
        "outputId": "d19880ab-fdf0-4a7b-925e-99ed7de19bbb"
      },
      "execution_count": 30,
      "outputs": [
        {
          "output_type": "stream",
          "name": "stdout",
          "text": [
            "enter a guess between 1 and 10:1\n",
            "Guess 1 correct? False\n",
            "enter a guess between 1 and 10:6\n",
            "Guess 2 correct? True\n"
          ]
        }
      ]
    },
    {
      "cell_type": "markdown",
      "source": [
        "Exercise 7\n"
      ],
      "metadata": {
        "id": "GQsRvl-GgT_O"
      }
    },
    {
      "cell_type": "code",
      "source": [
        "def show_case_sensitivity():\n",
        "  name = input(\"enter a name in all lower case letters:\")\n",
        "  capitalised_name = input(\"enter a capitalised_name with a leading capital letter:\")\n",
        "  same_names = name == capitalised_name\n",
        "  print(\"These are the same name\",same_names)\n",
        "show_case_sensitivity()\n"
      ],
      "metadata": {
        "colab": {
          "base_uri": "https://localhost:8080/"
        },
        "id": "JomjVTtvgW3a",
        "outputId": "8b58357e-2dc3-40d4-9b49-cce39d7c395d"
      },
      "execution_count": 33,
      "outputs": [
        {
          "output_type": "stream",
          "name": "stdout",
          "text": [
            "enter a name in all lower case letters:peter\n",
            "enter a capitalised_name with a leading capital letter:Peter\n",
            "These are the same name False\n"
          ]
        }
      ]
    },
    {
      "cell_type": "markdown",
      "source": [
        "Exercise 8"
      ],
      "metadata": {
        "id": "YB-o1A68ikUd"
      }
    },
    {
      "cell_type": "code",
      "source": [
        "def calculate_answer():\n",
        "  x = 5.6\n",
        "  y = 6.2\n",
        "  answer = round((x**2+y**3),3)\n",
        "  user_answer = float(input(\" input the user_answer\"))\n",
        "  incorrect_answer = answer != user_answer\n",
        "  print(\"Not the right answer? \",incorrect_answer)\n",
        "calculate_answer()"
      ],
      "metadata": {
        "colab": {
          "base_uri": "https://localhost:8080/"
        },
        "id": "6DiN3i_ninsZ",
        "outputId": "09627d92-1f12-41d9-ccc7-da046ebbbe2e"
      },
      "execution_count": 38,
      "outputs": [
        {
          "output_type": "stream",
          "name": "stdout",
          "text": [
            " input the user_answer200\n",
            "Not the right answer?  True\n"
          ]
        }
      ]
    },
    {
      "cell_type": "markdown",
      "source": [
        "Exercise 9"
      ],
      "metadata": {
        "id": "1rSDablDnAKH"
      }
    },
    {
      "cell_type": "code",
      "source": [
        "def check_in_range():\n",
        "  number = int(input(\"input a whole number between 1 and 12:\"))\n",
        "  in_range = number >= 1 and number <=12\n",
        "  print(\"Valid number?\", in_range)\n",
        "check_in_range()"
      ],
      "metadata": {
        "colab": {
          "base_uri": "https://localhost:8080/"
        },
        "id": "aCWXIdhWnDPp",
        "outputId": "8b8dd9d7-5ea9-4468-aad3-9fdd06ba2981"
      },
      "execution_count": 43,
      "outputs": [
        {
          "output_type": "stream",
          "name": "stdout",
          "text": [
            "input a whole number between 1 and 12:23\n",
            "Valid number? False\n"
          ]
        }
      ]
    },
    {
      "cell_type": "markdown",
      "source": [
        "Exercise 10"
      ],
      "metadata": {
        "id": "hu1PP76LpOMX"
      }
    },
    {
      "cell_type": "code",
      "source": [
        "def identify_outlier():\n",
        "  number = int(input(\"input a whole number:\"))\n",
        "  outlier = number<=20 or number>=50\n",
        "  print(\"Outlier?\", outlier)\n",
        "identify_outlier()"
      ],
      "metadata": {
        "colab": {
          "base_uri": "https://localhost:8080/"
        },
        "id": "uudOUyZtpRWZ",
        "outputId": "caa39f26-59dc-4a2b-b99f-6c4d77294491"
      },
      "execution_count": 51,
      "outputs": [
        {
          "output_type": "stream",
          "name": "stdout",
          "text": [
            "input a whole number:32\n",
            "Outlier? False\n"
          ]
        }
      ]
    }
  ]
}
