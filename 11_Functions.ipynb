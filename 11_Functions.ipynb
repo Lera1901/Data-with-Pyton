{
  "nbformat": 4,
  "nbformat_minor": 0,
  "metadata": {
    "colab": {
      "provenance": [],
      "authorship_tag": "ABX9TyOgX4WabrYnuCPB7x0Bra8y",
      "include_colab_link": true
    },
    "kernelspec": {
      "name": "python3",
      "display_name": "Python 3"
    },
    "language_info": {
      "name": "python"
    }
  },
  "cells": [
    {
      "cell_type": "markdown",
      "metadata": {
        "id": "view-in-github",
        "colab_type": "text"
      },
      "source": [
        "<a href=\"https://colab.research.google.com/github/Lera1901/Data-with-Pyton/blob/main/11_Functions.ipynb\" target=\"_parent\"><img src=\"https://colab.research.google.com/assets/colab-badge.svg\" alt=\"Open In Colab\"/></a>"
      ]
    },
    {
      "cell_type": "markdown",
      "source": [
        "Exercise 1"
      ],
      "metadata": {
        "id": "jFQmN1cu8Spi"
      }
    },
    {
      "cell_type": "code",
      "source": [
        "def get_password():\n",
        "   password=\"\"\n",
        "   while len(password)!=8:\n",
        "    password = input(\"Enter a password (8 characters): \")\n",
        "   return password\n",
        "print (\"Valid password\",get_password())"
      ],
      "metadata": {
        "colab": {
          "base_uri": "https://localhost:8080/"
        },
        "id": "YCyQhz_29jph",
        "outputId": "15908521-81fa-48ff-9c6f-1f3d3af02559"
      },
      "execution_count": 2,
      "outputs": [
        {
          "output_type": "stream",
          "name": "stdout",
          "text": [
            "Enter a password (8 characters): 11223\n",
            "Enter a password (8 characters): 55555\n",
            "Enter a password (8 characters): fhfjhgkj\n",
            "Valid password fhfjhgkj\n"
          ]
        }
      ]
    },
    {
      "cell_type": "markdown",
      "source": [
        "Exercise 2"
      ],
      "metadata": {
        "id": "hIXXb3-KAlXR"
      }
    },
    {
      "cell_type": "code",
      "source": [
        "\n",
        "def get_username():\n",
        "  username = input(\"Enter username:\")\n",
        "  username_upperer = username.upper()\n",
        "  if username_upperer == \"ADMINUSER1\":\n",
        "     return \"Valid user\"\n",
        "  else:\n",
        "     return \"Invalid username\"\n",
        "print(get_username())"
      ],
      "metadata": {
        "colab": {
          "base_uri": "https://localhost:8080/"
        },
        "id": "Oik8Re2pAoVa",
        "outputId": "114c06b3-0e6f-415c-d77e-a8831eb762f2"
      },
      "execution_count": 28,
      "outputs": [
        {
          "output_type": "stream",
          "name": "stdout",
          "text": [
            "Enter username:adminuser1\n",
            "Valid user\n"
          ]
        }
      ]
    },
    {
      "cell_type": "markdown",
      "source": [
        "Exercise 3"
      ],
      "metadata": {
        "id": "KGgViuF_D-e4"
      }
    },
    {
      "cell_type": "code",
      "source": [
        "def get_credentials():\n",
        "\n",
        "  username = input(\"Enter username:\")\n",
        "  password = input(\"Enter password:\")\n",
        "  if username.upper() == \"ADMINUSER1\":\n",
        "     if len(password)>=8:\n",
        "      return \"Credentials accepted\"\n",
        "     else:\n",
        "      return \"Password to short\"\n",
        "  else:\n",
        "    return\"Invalid user\"\n",
        "\n",
        "print(get_credentials())"
      ],
      "metadata": {
        "colab": {
          "base_uri": "https://localhost:8080/"
        },
        "id": "PAhS-wyZEBsf",
        "outputId": "82af9cb3-16f5-4c92-ec40-930aafdb6d5f"
      },
      "execution_count": 32,
      "outputs": [
        {
          "output_type": "stream",
          "name": "stdout",
          "text": [
            "Enter username:adminuser1\n",
            "Enter password:ertyuiop\n",
            "Credentials accepted\n"
          ]
        }
      ]
    },
    {
      "cell_type": "markdown",
      "source": [
        "Exercise 4"
      ],
      "metadata": {
        "id": "eyGvDHkrMyRT"
      }
    },
    {
      "cell_type": "code",
      "source": [
        "def get_rounded_float():\n",
        "  number = float(input(\"Enter a decimal number\"))\n",
        "  places = int(input(\"Enter a number of places to round to\"))\n",
        "  rounded_number = round(number, places)\n",
        "  return rounded_number\n",
        "\n",
        "print(get_rounded_float())\n"
      ],
      "metadata": {
        "colab": {
          "base_uri": "https://localhost:8080/"
        },
        "id": "Mvfe_frIM08l",
        "outputId": "8d56337b-10ea-49b4-ea52-fedf24574784"
      },
      "execution_count": 35,
      "outputs": [
        {
          "output_type": "stream",
          "name": "stdout",
          "text": [
            "Enter a decimal number3.14658\n",
            "Enter a number of places to round to3\n",
            "3.147\n"
          ]
        }
      ]
    },
    {
      "cell_type": "markdown",
      "source": [
        "Exercise 5"
      ],
      "metadata": {
        "id": "xVG-Ju6KB36j"
      }
    },
    {
      "cell_type": "code",
      "source": [
        "def get_rounded_float():\n",
        "\n",
        "    number = float(input(\"Enter a decimal number\"))\n",
        "    round_number= input(\"would like to round the number (Y or N) \")\n",
        "    if round_number==\"Y\":\n",
        "     places = int(input(\"Enter a number of places to round to: \"))\n",
        "     rounded_number = round(number, places)\n",
        "     return rounded_number\n",
        "    else:\n",
        "      return number\n",
        "print(get_rounded_float())"
      ],
      "metadata": {
        "colab": {
          "base_uri": "https://localhost:8080/"
        },
        "id": "HAGxHsElB6dq",
        "outputId": "6bb1797f-3f07-440e-855b-211b93862299"
      },
      "execution_count": 41,
      "outputs": [
        {
          "output_type": "stream",
          "name": "stdout",
          "text": [
            "Enter a decimal number5.4236\n",
            "would like to round the number (Y or N) Y\n",
            "Enter a number of places to round to: 2\n",
            "5.42\n"
          ]
        }
      ]
    },
    {
      "cell_type": "markdown",
      "source": [
        "Exercise 6"
      ],
      "metadata": {
        "id": "hVeDaEMPF2WG"
      }
    },
    {
      "cell_type": "code",
      "source": [
        "from random import uniform, randint\n",
        "def generate_rounded_float():\n",
        "  round_number= uniform(1,100)\n",
        "  print(\"Random number:\", round_number)\n",
        "  places = randint(1,4)\n",
        "  print(\"Number of places:\", places)\n",
        "  rounded_number = round(round_number, places)\n",
        "  return rounded_number\n",
        "print(\"Expected result:\",generate_rounded_float())\n"
      ],
      "metadata": {
        "colab": {
          "base_uri": "https://localhost:8080/"
        },
        "id": "PalQzPjqF5A7",
        "outputId": "bcaa6aa7-42d4-4472-c9c9-46a45a2187c5"
      },
      "execution_count": 48,
      "outputs": [
        {
          "output_type": "stream",
          "name": "stdout",
          "text": [
            "Random number: 53.82295176638498\n",
            "Number of places: 1\n",
            "Expected result: 53.8\n"
          ]
        }
      ]
    }
  ]
}