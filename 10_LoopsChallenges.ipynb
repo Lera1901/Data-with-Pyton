{
  "cells": [
    {
      "cell_type": "markdown",
      "metadata": {
        "id": "view-in-github",
        "colab_type": "text"
      },
      "source": [
        "<a href=\"https://colab.research.google.com/github/Lera1901/Data-with-Pyton/blob/main/10_LoopsChallenges.ipynb\" target=\"_parent\"><img src=\"https://colab.research.google.com/assets/colab-badge.svg\" alt=\"Open In Colab\"/></a>"
      ]
    },
    {
      "cell_type": "markdown",
      "metadata": {
        "id": "YH8V0PzQi5fG"
      },
      "source": [
        "Challenge 1"
      ]
    },
    {
      "cell_type": "code",
      "source": [
        "import random\n",
        "\n",
        "def random_generator():\n",
        "    total = 0\n",
        "    generated_number = None\n",
        "\n",
        "    while generated_number != 1:\n",
        "        generated_number = random.randint(1, 100)\n",
        "        total += generated_number\n",
        "\n",
        "    print(\"Total sum : \",total)\n",
        "    return generated_number\n",
        "\n",
        "final_number = random_generator()\n",
        "print(\"Final number:\",final_number)"
      ],
      "metadata": {
        "colab": {
          "base_uri": "https://localhost:8080/"
        },
        "id": "2HecvfkPGxMv",
        "outputId": "a1a84ab5-5058-42ed-b95f-7c7a549ad453"
      },
      "execution_count": 16,
      "outputs": [
        {
          "output_type": "stream",
          "name": "stdout",
          "text": [
            "Total sum :  2511\n",
            "Final number: 1\n"
          ]
        }
      ]
    },
    {
      "cell_type": "markdown",
      "source": [
        "Challenge 2"
      ],
      "metadata": {
        "id": "Kz7EIv5zI4Y0"
      }
    },
    {
      "cell_type": "code",
      "source": [
        "def calculate_factorial():\n",
        "  while True:\n",
        "    n = int(input(\"Enter a non-negative number: \"))\n",
        "    result = 1\n",
        "    while n > 0 :\n",
        "        result *= n\n",
        "        n -= 1\n",
        "    if n<0:\n",
        "      print(\"Wrong\")\n",
        "      break\n",
        "    print(\"! =\",result)\n",
        "calculate_factorial()"
      ],
      "metadata": {
        "colab": {
          "base_uri": "https://localhost:8080/"
        },
        "id": "KGxM2g-8I7VW",
        "outputId": "ebcf8ea1-e8ec-4fdd-f8be-df2d29989290"
      },
      "execution_count": 58,
      "outputs": [
        {
          "output_type": "stream",
          "name": "stdout",
          "text": [
            "Enter a non-negative number: 6\n",
            "! = 720\n",
            "Enter a non-negative number: 10\n",
            "! = 3628800\n",
            "Enter a non-negative number: 1\n",
            "! = 1\n",
            "Enter a non-negative number: 0\n",
            "! = 1\n",
            "Enter a non-negative number: -7\n",
            "Wrong\n"
          ]
        }
      ]
    },
    {
      "cell_type": "markdown",
      "source": [
        "Challenge 3"
      ],
      "metadata": {
        "id": "kThDuPMYST56"
      }
    },
    {
      "cell_type": "code",
      "source": [
        "import random\n",
        "def roll_dice():\n",
        " doubl_count=0\n",
        " for i in range(6):\n",
        "     dice1 = random.randint(1, 6)\n",
        "     dice2 = random.randint(1, 6)\n",
        "     print(dice1,\" \",dice2)\n",
        "     if dice1==dice2:\n",
        "      doubl_count+=1\n",
        " print(doubl_count)\n",
        "roll_dice()\n"
      ],
      "metadata": {
        "colab": {
          "base_uri": "https://localhost:8080/"
        },
        "id": "4Yi904VLSXp4",
        "outputId": "b2af3791-9a91-429b-8c17-6b951955ede1"
      },
      "execution_count": 67,
      "outputs": [
        {
          "output_type": "stream",
          "name": "stdout",
          "text": [
            "6   2\n",
            "4   3\n",
            "2   2\n",
            "1   5\n",
            "1   5\n",
            "5   5\n",
            "2\n"
          ]
        }
      ]
    },
    {
      "cell_type": "markdown",
      "source": [
        "Challenge 4"
      ],
      "metadata": {
        "id": "5PmkGGYYV20j"
      }
    },
    {
      "cell_type": "code",
      "source": [
        "def fizz_buzz():\n",
        "  for i in range(1,31):\n",
        "    if i%3==0 and i%5==0:\n",
        "      print (\"fizzbuzz\")\n",
        "    elif i%5 ==0:\n",
        "      print (\"buzz\")\n",
        "    elif i%3==0:\n",
        "      print(\"fizz\")\n",
        "    else:\n",
        "      print(i)\n",
        "fizz_buzz()"
      ],
      "metadata": {
        "colab": {
          "base_uri": "https://localhost:8080/"
        },
        "id": "_VGvMZCnV6Sb",
        "outputId": "7fab13c3-feb1-4759-d038-4e8f745a0def"
      },
      "execution_count": 73,
      "outputs": [
        {
          "output_type": "stream",
          "name": "stdout",
          "text": [
            "1\n",
            "2\n",
            "fizz\n",
            "4\n",
            "buzz\n",
            "fizz\n",
            "7\n",
            "8\n",
            "fizz\n",
            "buzz\n",
            "11\n",
            "fizz\n",
            "13\n",
            "14\n",
            "fizzbuzz\n",
            "16\n",
            "17\n",
            "fizz\n",
            "19\n",
            "buzz\n",
            "fizz\n",
            "22\n",
            "23\n",
            "fizz\n",
            "buzz\n",
            "26\n",
            "fizz\n",
            "28\n",
            "29\n",
            "fizzbuzz\n"
          ]
        }
      ]
    },
    {
      "cell_type": "markdown",
      "source": [
        "Challenge 5"
      ],
      "metadata": {
        "id": "Llvk99q8ZkpC"
      }
    },
    {
      "cell_type": "code",
      "source": [
        "def check_perfect():\n",
        " while True:\n",
        "  num = int(input(\"Enter number\"))\n",
        "  p_num=0\n",
        "\n",
        "  for i in range(1,num):\n",
        "   if num%i ==0:\n",
        "     p_num +=i\n",
        "  if num == p_num and (p_num+num)/2==num:\n",
        "    print(num, \"is perfect number\")\n",
        "  elif num<0:\n",
        "   print(\"number negative\")\n",
        "   break\n",
        "  else:\n",
        "    print(num,\"not perfect number\")\n",
        "check_perfect()"
      ],
      "metadata": {
        "colab": {
          "base_uri": "https://localhost:8080/"
        },
        "id": "NleG0JYdZnVX",
        "outputId": "0a8a1fa5-a172-4505-da2f-8284fe879b8f"
      },
      "execution_count": 84,
      "outputs": [
        {
          "output_type": "stream",
          "name": "stdout",
          "text": [
            "Enter number7\n",
            "7 not perfect number\n",
            "Enter number6\n",
            "6 is perfect number\n",
            "Enter number10\n",
            "10 not perfect number\n",
            "Enter number28\n",
            "28 is perfect number\n",
            "Enter number-7\n",
            "number negative\n"
          ]
        }
      ]
    },
    {
      "cell_type": "markdown",
      "source": [
        "Challenge 6"
      ],
      "metadata": {
        "id": "MztzBeNYeyYP"
      }
    },
    {
      "cell_type": "code",
      "source": [
        "### importing package random\n",
        "from random import choice, randint\n",
        "\n",
        "def guess_passcode(passcode, missing_letter):\n",
        "# add your code below here:\n",
        "\n",
        "\n",
        "\n",
        "\n",
        "### code to generate a passcode with a missing letter, then run the function guess_passcode\n",
        "### DO NOT change anything below here\n",
        "  passcode = \"\"\n",
        "  letters = [chr(a) for a in range(ord('A'),ord('Z')+1)] # generate the letter between A and Z\n",
        "  missing_position = randint(0,4)\n",
        "  missing_letter = \"*\"\n",
        "  for i in range(4):\n",
        "   letter = choice(letters)\n",
        "   if i == missing_position:\n",
        "    missing_letter = letter\n",
        "    passcode += \"*\"\n",
        "   else:\n",
        "    passcode += letter\n",
        "guess_passcode(passcode, missing_letter)"
      ],
      "metadata": {
        "colab": {
          "base_uri": "https://localhost:8080/",
          "height": 217
        },
        "id": "78w5wCh4e203",
        "outputId": "1eaf48ff-9c1a-4697-cd7f-8d0fe93bbb63"
      },
      "execution_count": 89,
      "outputs": [
        {
          "output_type": "error",
          "ename": "NameError",
          "evalue": "ignored",
          "traceback": [
            "\u001b[0;31m---------------------------------------------------------------------------\u001b[0m",
            "\u001b[0;31mNameError\u001b[0m                                 Traceback (most recent call last)",
            "\u001b[0;32m<ipython-input-89-900172b92e47>\u001b[0m in \u001b[0;36m<cell line: 24>\u001b[0;34m()\u001b[0m\n\u001b[1;32m     22\u001b[0m      \u001b[0mpasscode\u001b[0m \u001b[0;34m+=\u001b[0m \u001b[0mletter\u001b[0m\u001b[0;34m\u001b[0m\u001b[0;34m\u001b[0m\u001b[0m\n\u001b[1;32m     23\u001b[0m \u001b[0;34m\u001b[0m\u001b[0m\n\u001b[0;32m---> 24\u001b[0;31m \u001b[0mguess_passcode\u001b[0m\u001b[0;34m(\u001b[0m\u001b[0mpasscode\u001b[0m\u001b[0;34m,\u001b[0m \u001b[0mmissing_letter\u001b[0m\u001b[0;34m)\u001b[0m\u001b[0;34m\u001b[0m\u001b[0;34m\u001b[0m\u001b[0m\n\u001b[0m",
            "\u001b[0;31mNameError\u001b[0m: name 'passcode' is not defined"
          ]
        }
      ]
    }
  ],
  "metadata": {
    "colab": {
      "provenance": [],
      "authorship_tag": "ABX9TyN69JK5ZatVuaGWbPx9mjhN",
      "include_colab_link": true
    },
    "kernelspec": {
      "display_name": "Python 3",
      "name": "python3"
    },
    "language_info": {
      "name": "python"
    }
  },
  "nbformat": 4,
  "nbformat_minor": 0
}