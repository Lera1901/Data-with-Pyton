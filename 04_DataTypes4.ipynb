{
  "nbformat": 4,
  "nbformat_minor": 0,
  "metadata": {
    "colab": {
      "provenance": [],
      "authorship_tag": "ABX9TyMgDEpMqi2c/RDudVvBobH+",
      "include_colab_link": true
    },
    "kernelspec": {
      "name": "python3",
      "display_name": "Python 3"
    },
    "language_info": {
      "name": "python"
    }
  },
  "cells": [
    {
      "cell_type": "markdown",
      "metadata": {
        "id": "view-in-github",
        "colab_type": "text"
      },
      "source": [
        "<a href=\"https://colab.research.google.com/github/Lera1901/Data-with-Pyton/blob/main/04_DataTypes4.ipynb\" target=\"_parent\"><img src=\"https://colab.research.google.com/assets/colab-badge.svg\" alt=\"Open In Colab\"/></a>"
      ]
    },
    {
      "cell_type": "code",
      "execution_count": null,
      "metadata": {
        "id": "aCfIdaQ-PDmY"
      },
      "outputs": [],
      "source": []
    },
    {
      "cell_type": "markdown",
      "source": [
        "Exercise 1"
      ],
      "metadata": {
        "id": "Wmgo3dbWPEDU"
      }
    },
    {
      "cell_type": "code",
      "source": [
        "def print_dog_human_age():\n",
        "  dog_age = int(input(\"input their dog's age  \"))\n",
        "  dog_human_age = dog_age*7\n",
        "  print(dog_human_age)\n",
        "print_dog_human_age()"
      ],
      "metadata": {
        "colab": {
          "base_uri": "https://localhost:8080/"
        },
        "id": "fB8ZRYc_PHlJ",
        "outputId": "347fd03b-bf36-4985-df04-e33096acc2bb"
      },
      "execution_count": 1,
      "outputs": [
        {
          "output_type": "stream",
          "name": "stdout",
          "text": [
            "input their dog's age  7\n",
            "49\n"
          ]
        }
      ]
    },
    {
      "cell_type": "markdown",
      "source": [
        "Exercise 2"
      ],
      "metadata": {
        "id": "wT3Ua1c4PrML"
      }
    },
    {
      "cell_type": "code",
      "source": [
        "def calculate_average():\n",
        "  num1 = float(input(\"input first number \"))\n",
        "  num2 = float(input(\"input second number \"))\n",
        "  num3 = float(input(\"input third number \"))\n",
        "  average = (num1 + num2 +num3 ) / 3\n",
        "  print(round(average,2))\n",
        "calculate_average()"
      ],
      "metadata": {
        "colab": {
          "base_uri": "https://localhost:8080/"
        },
        "id": "vb45MImcPtsj",
        "outputId": "e4e295b6-6ecc-4e93-dc90-01d7ef4bbeb9"
      },
      "execution_count": 16,
      "outputs": [
        {
          "output_type": "stream",
          "name": "stdout",
          "text": [
            "input first number 5\n",
            "input second number 3\n",
            "input third number 9\n",
            "5.67\n"
          ]
        }
      ]
    },
    {
      "cell_type": "markdown",
      "source": [
        "Exercise 3"
      ],
      "metadata": {
        "id": "QXEWJOpITtBH"
      }
    },
    {
      "cell_type": "code",
      "source": [
        "def calculate_avg_height():\n",
        "  height = float(input(\"input their height\"))\n",
        "  height_centimeters  = round(height*100)\n",
        "  print(height_centimeters)\n",
        "calculate_avg_height()"
      ],
      "metadata": {
        "colab": {
          "base_uri": "https://localhost:8080/"
        },
        "id": "wdQtJLvETvvK",
        "outputId": "a66b0649-24e1-41e2-de55-fbf303f468a8"
      },
      "execution_count": 19,
      "outputs": [
        {
          "output_type": "stream",
          "name": "stdout",
          "text": [
            "input their height1.67\n",
            "167\n"
          ]
        }
      ]
    },
    {
      "cell_type": "markdown",
      "source": [
        "Exercise 4\n"
      ],
      "metadata": {
        "id": "TPpkwum-UlAr"
      }
    },
    {
      "cell_type": "code",
      "source": [
        "def convert_currency():\n",
        "  pounds = float(input(\"input an amount in pounds \"))\n",
        "  euros = round(pounds*1.16,2)\n",
        "  print(\"Є\",euros)\n",
        "convert_currency()"
      ],
      "metadata": {
        "colab": {
          "base_uri": "https://localhost:8080/"
        },
        "id": "FZ2DUcfxUw1l",
        "outputId": "a08bf4b5-9e44-4aae-c696-baa5b9718191"
      },
      "execution_count": 22,
      "outputs": [
        {
          "output_type": "stream",
          "name": "stdout",
          "text": [
            "input an amount in pounds 60\n",
            "Є 69.6\n"
          ]
        }
      ]
    },
    {
      "cell_type": "markdown",
      "source": [
        "Exercise 5"
      ],
      "metadata": {
        "id": "pWllXC7VW66G"
      }
    },
    {
      "cell_type": "code",
      "source": [
        "def calculate_stats():\n",
        "  num1 = 3.145\n",
        "  num2 = 5.6723\n",
        "  num3 = 9.34\n",
        "  total = round((num1+num2+num3),2)\n",
        "  average = round(total/3,3)\n",
        "  print(\"The total of the three numbers is\",total)\n",
        "  print(\"The average of the three numbers is\",average)\n",
        "calculate_stats()"
      ],
      "metadata": {
        "colab": {
          "base_uri": "https://localhost:8080/"
        },
        "id": "2revgWvPW95_",
        "outputId": "05bccb33-bd05-47fc-a203-d7ef09c3b74e"
      },
      "execution_count": 26,
      "outputs": [
        {
          "output_type": "stream",
          "name": "stdout",
          "text": [
            "The total of the three numbers is 18.16\n",
            "The average of the three numbers is 6.053\n"
          ]
        }
      ]
    },
    {
      "cell_type": "markdown",
      "source": [
        "Exersice 6"
      ],
      "metadata": {
        "id": "D2fqa_N9VxM-"
      }
    },
    {
      "cell_type": "code",
      "source": [
        "def calculate_volume():\n",
        "  base = 3.2\n",
        "  width = 5.6\n",
        "  height = 7.8\n",
        "  box_volume = round(3.2*5.6*7.8,1)\n",
        "  print(\"Volume \",box_volume)\n",
        "calculate_volume()"
      ],
      "metadata": {
        "colab": {
          "base_uri": "https://localhost:8080/"
        },
        "id": "xRMBwiUzV0Rg",
        "outputId": "1be98a57-dff2-4072-c385-7d1c55b4a386"
      },
      "execution_count": 24,
      "outputs": [
        {
          "output_type": "stream",
          "name": "stdout",
          "text": [
            "Volume  139.8\n"
          ]
        }
      ]
    }
  ]
}