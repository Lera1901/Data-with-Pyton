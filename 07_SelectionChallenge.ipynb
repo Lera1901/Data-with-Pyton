{
  "nbformat": 4,
  "nbformat_minor": 0,
  "metadata": {
    "colab": {
      "provenance": [],
      "authorship_tag": "ABX9TyOkbG7hbMRUpwYxef6sXgiy",
      "include_colab_link": true
    },
    "kernelspec": {
      "name": "python3",
      "display_name": "Python 3"
    },
    "language_info": {
      "name": "python"
    }
  },
  "cells": [
    {
      "cell_type": "markdown",
      "metadata": {
        "id": "view-in-github",
        "colab_type": "text"
      },
      "source": [
        "<a href=\"https://colab.research.google.com/github/Lera1901/Data-with-Pyton/blob/main/07_SelectionChallenge.ipynb\" target=\"_parent\"><img src=\"https://colab.research.google.com/assets/colab-badge.svg\" alt=\"Open In Colab\"/></a>"
      ]
    },
    {
      "cell_type": "code",
      "execution_count": null,
      "metadata": {
        "id": "DLa1IuBmadAx"
      },
      "outputs": [],
      "source": []
    },
    {
      "cell_type": "markdown",
      "source": [
        "Challenge 1"
      ],
      "metadata": {
        "id": "XtwCp4Jjado5"
      }
    },
    {
      "cell_type": "code",
      "source": [
        "import re\n",
        "def check_password_valid():\n",
        "  password  = input(\"Enter password \")\n",
        "  if ( 6 <=len(password)<=16\n",
        "      and re.search('[a-z]',password)\n",
        "      and re.search('[A-Z]',password)\n",
        "      and re.search('[0-9]',password)\n",
        "      and re.search('[$#@*]',password)\n",
        "      ):\n",
        "    print(\"Your password is valid\")\n",
        "  else:\n",
        "    print(\"Your password is not valid\")\n",
        "check_password_valid()"
      ],
      "metadata": {
        "colab": {
          "base_uri": "https://localhost:8080/"
        },
        "id": "iJBBpaupah8q",
        "outputId": "bff278be-db17-42b6-ffe7-e9abe0d557b7"
      },
      "execution_count": 18,
      "outputs": [
        {
          "output_type": "stream",
          "name": "stdout",
          "text": [
            "Enter password fGjdksa\n",
            "Your password is not valid\n"
          ]
        }
      ]
    },
    {
      "cell_type": "markdown",
      "source": [
        "Challenge 2"
      ],
      "metadata": {
        "id": "APduveJ-qDW9"
      }
    },
    {
      "cell_type": "code",
      "source": [
        "def evaluate_triangle_shape():\n",
        "  x = int(input(\"enter the length of the first side of the triangle: \"))\n",
        "  y = int(input(\"enter the length of the second side of the triangle: \"))\n",
        "  z = int(input(\"enter the length of the third side of the triangle: \"))\n",
        "  if x==y==z:\n",
        "    print(\"This is equilateral triangle\")\n",
        "  elif x==y or y==z or x==z:\n",
        "    print(\"This is an Isosceles triangle\")\n",
        "  else:\n",
        "    print(\"is a Scalene triangle\")\n",
        "evaluate_triangle_shape()"
      ],
      "metadata": {
        "colab": {
          "base_uri": "https://localhost:8080/"
        },
        "id": "DCK5pkfpqOV8",
        "outputId": "992cc826-6fd1-48d8-a8cc-6d1e261f6032"
      },
      "execution_count": 24,
      "outputs": [
        {
          "output_type": "stream",
          "name": "stdout",
          "text": [
            "enter the length of the first side of the triangle: 5\n",
            "enter the length of the second side of the triangle: 8\n",
            "enter the length of the third side of the triangle: 5\n",
            "This is an Isosceles triangle\n"
          ]
        }
      ]
    },
    {
      "cell_type": "markdown",
      "source": [
        "Challenge 3"
      ],
      "metadata": {
        "id": "fZxmau_pwJJ3"
      }
    },
    {
      "cell_type": "code",
      "source": [
        "def determine_season():\n",
        "  month = int(input(\"Enter month number: \"))\n",
        "  day = int(input(\"Enter day number:\"))\n",
        "  if  (month==12 and day >=20\n",
        "       or month == 1 or month ==2\n",
        "       or month==3 and 1<=day<=20\n",
        "      ):\n",
        "     print(\"Season is winter\")\n",
        "  elif  (month==3 and day >20\n",
        "       or month == 4 or month ==5\n",
        "       or month==6 and 1<=day<=20\n",
        "      ):\n",
        "    print(\"Season is spring\")\n",
        "  elif  (month==6 and day >20\n",
        "       or month == 7 or month ==8\n",
        "       or month==9 and 1<=day<=20\n",
        "      ):\n",
        "    print(\"Season is summer\")\n",
        "  else:\n",
        "     print(\"Season is Autumn\")\n",
        "determine_season()"
      ],
      "metadata": {
        "colab": {
          "base_uri": "https://localhost:8080/"
        },
        "id": "T78ORJffwPjW",
        "outputId": "47cb9ac9-517f-4954-89ab-77fba35d9c7b"
      },
      "execution_count": 35,
      "outputs": [
        {
          "output_type": "stream",
          "name": "stdout",
          "text": [
            "Enter month number: 9\n",
            "Enter day number:21\n",
            "Season is Autumn\n"
          ]
        }
      ]
    }
  ]
}