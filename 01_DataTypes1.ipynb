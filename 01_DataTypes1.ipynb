{
  "nbformat": 4,
  "nbformat_minor": 0,
  "metadata": {
    "colab": {
      "provenance": [],
      "authorship_tag": "ABX9TyPacykRZVFkU/SqhXaZzfP6",
      "include_colab_link": true
    },
    "kernelspec": {
      "name": "python3",
      "display_name": "Python 3"
    },
    "language_info": {
      "name": "python"
    }
  },
  "cells": [
    {
      "cell_type": "markdown",
      "metadata": {
        "id": "view-in-github",
        "colab_type": "text"
      },
      "source": [
        "<a href=\"https://colab.research.google.com/github/Lera1901/Data-with-Pyton/blob/main/01_DataTypes1.ipynb\" target=\"_parent\"><img src=\"https://colab.research.google.com/assets/colab-badge.svg\" alt=\"Open In Colab\"/></a>"
      ]
    },
    {
      "cell_type": "code",
      "execution_count": null,
      "metadata": {
        "id": "OZsQ4-xtxZQW"
      },
      "outputs": [],
      "source": []
    },
    {
      "cell_type": "markdown",
      "source": [
        "Exercise 1"
      ],
      "metadata": {
        "id": "AjK8ubJsyUvg"
      }
    },
    {
      "cell_type": "code",
      "source": [
        "def print_welcome(name):\n",
        "  print(\"Hello\",name)\n",
        "name = \"David\"\n",
        "print_welcome(name)\n",
        "name = \"Fiona\"\n",
        "print_welcome(name)"
      ],
      "metadata": {
        "colab": {
          "base_uri": "https://localhost:8080/"
        },
        "id": "FbIMiVx6ycXg",
        "outputId": "1b5927d5-93e2-48ac-9add-ab2611dc428d"
      },
      "execution_count": 7,
      "outputs": [
        {
          "output_type": "stream",
          "name": "stdout",
          "text": [
            "Hello David\n",
            "Hello Fiona\n"
          ]
        }
      ]
    },
    {
      "cell_type": "markdown",
      "source": [
        "Exercise 2"
      ],
      "metadata": {
        "id": "vesUmLhn0s16"
      }
    },
    {
      "cell_type": "code",
      "source": [
        "def print_total():\n",
        "    num1 = 10\n",
        "    num2 = 15\n",
        "    total = num1+num2\n",
        "    print(num1, \"+\", num2, \"=\", total)\n",
        "print_total()\n",
        "def print_total():\n",
        "    num1 = 3\n",
        "    num2 = 4\n",
        "    total = num1+num2\n",
        "    print(num1, \"+\", num2, \"=\", total)\n",
        "print_total()\n"
      ],
      "metadata": {
        "colab": {
          "base_uri": "https://localhost:8080/"
        },
        "id": "gMpJRiU_0vhn",
        "outputId": "18bfb85a-2e33-4924-fa9f-0da5c7aaa9de"
      },
      "execution_count": 18,
      "outputs": [
        {
          "output_type": "stream",
          "name": "stdout",
          "text": [
            "10 + 15 = 25\n",
            "3 + 4 = 7\n"
          ]
        }
      ]
    },
    {
      "cell_type": "markdown",
      "source": [
        "Exercise 3"
      ],
      "metadata": {
        "id": "srdkFTD52w9m"
      }
    },
    {
      "cell_type": "code",
      "source": [
        "def print_info():\n",
        "    Name = \"Billy\"\n",
        "    Age = 18\n",
        "    print(f\"Hello {Name},you are {Age} years old\")\n",
        "print_info()"
      ],
      "metadata": {
        "colab": {
          "base_uri": "https://localhost:8080/"
        },
        "id": "xFC6klSR2zi4",
        "outputId": "389e578d-001c-44a3-f9d3-9508ed912dc9"
      },
      "execution_count": 20,
      "outputs": [
        {
          "output_type": "stream",
          "name": "stdout",
          "text": [
            "Hello Billy,you are 18 years old\n"
          ]
        }
      ]
    },
    {
      "cell_type": "markdown",
      "source": [
        "Exercise 4"
      ],
      "metadata": {
        "id": "pFpzDBLl4Kl7"
      }
    },
    {
      "cell_type": "code",
      "source": [
        "def print_price():\n",
        "    product = \"Chocolate Bar\"\n",
        "    cost = 1.39\n",
        "    print(product,\"costs\",\"£\",cost)\n",
        "print_price()"
      ],
      "metadata": {
        "colab": {
          "base_uri": "https://localhost:8080/"
        },
        "id": "OLoMFf1t4O9i",
        "outputId": "3243c016-de51-4277-8721-f74771f71b8c"
      },
      "execution_count": 21,
      "outputs": [
        {
          "output_type": "stream",
          "name": "stdout",
          "text": [
            "Chocolate Bar costs £ 1.39\n"
          ]
        }
      ]
    },
    {
      "cell_type": "markdown",
      "source": [
        "Exercise 5"
      ],
      "metadata": {
        "id": "T-5IBfW55P_5"
      }
    },
    {
      "cell_type": "code",
      "source": [
        "def print_full_name():\n",
        "    name = \"Monty\"\n",
        "    surname = \"Python\"\n",
        "    full_name = name + \" \" + surname\n",
        "    print(full_name)\n",
        "print_full_name()"
      ],
      "metadata": {
        "colab": {
          "base_uri": "https://localhost:8080/"
        },
        "id": "W8GPCtkm5SaF",
        "outputId": "e8541962-463a-4148-a107-db9473b2e5fc"
      },
      "execution_count": 23,
      "outputs": [
        {
          "output_type": "stream",
          "name": "stdout",
          "text": [
            "Monty Python\n"
          ]
        }
      ]
    }
  ]
}