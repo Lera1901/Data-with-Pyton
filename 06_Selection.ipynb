{
  "nbformat": 4,
  "nbformat_minor": 0,
  "metadata": {
    "colab": {
      "provenance": [],
      "authorship_tag": "ABX9TyMte/D1uJd6HdWp0t1finY7",
      "include_colab_link": true
    },
    "kernelspec": {
      "name": "python3",
      "display_name": "Python 3"
    },
    "language_info": {
      "name": "python"
    }
  },
  "cells": [
    {
      "cell_type": "markdown",
      "metadata": {
        "id": "view-in-github",
        "colab_type": "text"
      },
      "source": [
        "<a href=\"https://colab.research.google.com/github/Lera1901/Data-with-Pyton/blob/main/06_DataTypes6.ipynb\" target=\"_parent\"><img src=\"https://colab.research.google.com/assets/colab-badge.svg\" alt=\"Open In Colab\"/></a>"
      ]
    },
    {
      "cell_type": "code",
      "execution_count": null,
      "metadata": {
        "id": "lGS6U66AuZIV"
      },
      "outputs": [],
      "source": []
    },
    {
      "cell_type": "markdown",
      "source": [
        "Exercise 1"
      ],
      "metadata": {
        "id": "5LhLfhEKuZwV"
      }
    },
    {
      "cell_type": "code",
      "source": [
        "def find_greater():\n",
        "  num1 = float(input(\"enter first number:\"))\n",
        "  num2 = float(input(\"enter second number:\"))\n",
        "  if num1 > num2:\n",
        "      print(round(num1))\n",
        "  else:\n",
        "      print(round(num2))\n",
        "find_greater()"
      ],
      "metadata": {
        "colab": {
          "base_uri": "https://localhost:8080/"
        },
        "id": "0R_zxGGjub4d",
        "outputId": "ee667ed4-6f11-4ef7-ea18-bc7dfc0df2a1"
      },
      "execution_count": null,
      "outputs": [
        {
          "output_type": "stream",
          "name": "stdout",
          "text": [
            "enter first number:8\n",
            "enter second number:2\n",
            "8\n"
          ]
        }
      ]
    },
    {
      "cell_type": "markdown",
      "source": [
        "Exercise 2"
      ],
      "metadata": {
        "id": "RSNwKPXPxN4D"
      }
    },
    {
      "cell_type": "code",
      "source": [
        "from random import randint\n",
        "def guess_number(random_number):\n",
        "  guess = int(input(\"enter random number(1-100):\"))\n",
        "  if guess > random_number:\n",
        "     print(\"Too high\")\n",
        "  else:\n",
        "    print(\"Too low\")\n",
        "guess_number(randint(1,100))"
      ],
      "metadata": {
        "colab": {
          "base_uri": "https://localhost:8080/"
        },
        "id": "N9nwkn8GxQ_R",
        "outputId": "ec9eb073-7280-4673-c89b-d928291209ae"
      },
      "execution_count": null,
      "outputs": [
        {
          "output_type": "stream",
          "name": "stdout",
          "text": [
            "enter random number:99\n",
            "Too high\n"
          ]
        }
      ]
    },
    {
      "cell_type": "markdown",
      "source": [
        "Exercise 3"
      ],
      "metadata": {
        "id": "9PzP6FWo0WZN"
      }
    },
    {
      "cell_type": "code",
      "source": [
        "def is_afternoon():\n",
        "  time = int(input(\"enter the time in 24 hour clock format (e.g. 1759):\"))\n",
        "  hour = time//100\n",
        "  minutes = time%100\n",
        "  if hour >= 12:\n",
        "        if hour > 12:\n",
        "            hour -= 12\n",
        "        am_pm = \"PM\"\n",
        "  else:\n",
        "        am_pm = \"AM\"\n",
        "  print(\"This is time\",hour,\":\",minutes,am_pm)\n",
        "\n",
        "is_afternoon()"
      ],
      "metadata": {
        "id": "B1yi81C70ZHn",
        "colab": {
          "base_uri": "https://localhost:8080/"
        },
        "outputId": "ccb8ca39-f6ee-4713-9da9-06d6f6aef75b"
      },
      "execution_count": 17,
      "outputs": [
        {
          "output_type": "stream",
          "name": "stdout",
          "text": [
            "enter the time in 24 hour clock format (e.g. 1759):740\n",
            "This is time 7 : 40 AM\n"
          ]
        }
      ]
    },
    {
      "cell_type": "markdown",
      "source": [
        "Exercise 4"
      ],
      "metadata": {
        "id": "JnXKrQ8s3u5M"
      }
    },
    {
      "cell_type": "code",
      "source": [
        "def validate():\n",
        "   number = float(input(\"enter random number(1-100):\"))\n",
        "   if number < 1 or number >100:\n",
        "    print(\"Number out of limits\")\n",
        "   else:\n",
        "    print(\"Your number was:\", number)\n",
        "validate()"
      ],
      "metadata": {
        "colab": {
          "base_uri": "https://localhost:8080/"
        },
        "id": "zeA7D-ts3yl-",
        "outputId": "17e62f20-efd7-40f6-8140-628c476e1407"
      },
      "execution_count": 19,
      "outputs": [
        {
          "output_type": "stream",
          "name": "stdout",
          "text": [
            "enter random number(1-100):200\n",
            "Number out of limits\n"
          ]
        }
      ]
    },
    {
      "cell_type": "markdown",
      "source": [
        "Exercise 5"
      ],
      "metadata": {
        "id": "_U7BqYrdCtut"
      }
    },
    {
      "cell_type": "code",
      "source": [
        "def process_menu():\n",
        "  print(\"What value would you like to see?\")\n",
        "  print(\"1.Pi\")\n",
        "  print(\"2.Plank’s constant\")\n",
        "  print(\"3.E\")\n",
        "  print(\"4.Square root of 2\")\n",
        "  menu_options = int(input(\"Enter your choice (1-4):\"))\n",
        "  if menu_options <1 or menu_options >4:\n",
        "     print(\"Invalid choice\")\n",
        "  else:\n",
        "     print(\"Your choise\",menu_options)\n",
        "process_menu()"
      ],
      "metadata": {
        "colab": {
          "base_uri": "https://localhost:8080/"
        },
        "id": "DYqGiBGNCwlL",
        "outputId": "b51d2389-f219-457a-be99-a46e7650d799"
      },
      "execution_count": 22,
      "outputs": [
        {
          "output_type": "stream",
          "name": "stdout",
          "text": [
            "What value would you like to see?\n",
            "1.Pi\n",
            "2.Plank’s constant\n",
            "3.E\n",
            "4.Square root of 2\n",
            "Enter your choice (1-4):4\n",
            "Your choise 4\n"
          ]
        }
      ]
    },
    {
      "cell_type": "markdown",
      "source": [
        "Exercise 6"
      ],
      "metadata": {
        "id": "PZlhzPynFrDh"
      }
    },
    {
      "cell_type": "code",
      "source": [
        "def process_menu_options():\n",
        "  print(\"What value would you like to see?\")\n",
        "  print(\"1.Pi\")\n",
        "  print(\"2.Plank’s constant\")\n",
        "  print(\"3.E\")\n",
        "  print(\"4.Square root of 2\")\n",
        "  menu_options = int(input(\"Enter your choice (1-4):\"))\n",
        "  if menu_options == 1:\n",
        "     print(\"3.14159265359\")\n",
        "  elif menu_options == 2:\n",
        "     print(\"6.62607004E-34\")\n",
        "  elif menu_options == 3:\n",
        "     print(\"2.71828\")\n",
        "  elif menu_options == 4:\n",
        "     print(\"1.414\")\n",
        "  else:\n",
        "     print(\"Invalid choice\")\n",
        "\n",
        "process_menu_options()"
      ],
      "metadata": {
        "colab": {
          "base_uri": "https://localhost:8080/"
        },
        "id": "NBSz92i0FuMi",
        "outputId": "976758ce-e831-44fa-ed89-8c3b369c25c2"
      },
      "execution_count": 27,
      "outputs": [
        {
          "output_type": "stream",
          "name": "stdout",
          "text": [
            "What value would you like to see?\n",
            "1.Pi\n",
            "2.Plank’s constant\n",
            "3.E\n",
            "4.Square root of 2\n",
            "Enter your choice (1-4):1\n",
            "3.14159265359\n"
          ]
        }
      ]
    },
    {
      "cell_type": "markdown",
      "source": [
        "Exercise 7"
      ],
      "metadata": {
        "id": "rASiECeWHZfP"
      }
    },
    {
      "cell_type": "code",
      "source": [
        "def report_pos_or_neg():\n",
        "  number = float(input(\"enter number:\"))\n",
        "  if number >0:\n",
        "   print(round(number),\" is a Positive number\")\n",
        "  elif number <0:\n",
        "   print(round(number),\" is a Negative number\")\n",
        "  else:\n",
        "   print(round(number),\" is neither positive or negative \")\n",
        "report_pos_or_neg()\n"
      ],
      "metadata": {
        "colab": {
          "base_uri": "https://localhost:8080/"
        },
        "id": "oL-UNUegHcd5",
        "outputId": "0ea0a9a1-569c-479c-a690-a7bb42a7feda"
      },
      "execution_count": 56,
      "outputs": [
        {
          "output_type": "stream",
          "name": "stdout",
          "text": [
            "enter number:-50\n",
            "-50  is a Negative number\n"
          ]
        }
      ]
    },
    {
      "cell_type": "markdown",
      "source": [
        "Exercise 8"
      ],
      "metadata": {
        "id": "aMNdHXYjPhIw"
      }
    },
    {
      "cell_type": "code",
      "source": [
        "def act_on_light():\n",
        "\n",
        "    colour = input(\" enter a traffic light colour\")\n",
        "    if colour == \"red\":\n",
        "        print(\"Stop the car\")\n",
        "    elif colour == \"amber\":\n",
        "        print(\"Be ready to stop\")\n",
        "    elif colour == \"green\":\n",
        "        print(\"Continue forward\")\n",
        "    elif colour == \"red and amber\":\n",
        "        print(\"Get ready to go\")\n",
        "    else:\n",
        "        print(\"That is not a traffic light color\")\n",
        "act_on_light()\n"
      ],
      "metadata": {
        "id": "6pbyv8IjPjo3",
        "outputId": "c28df1bc-703e-4020-c830-c4be2b252039",
        "colab": {
          "base_uri": "https://localhost:8080/"
        }
      },
      "execution_count": 62,
      "outputs": [
        {
          "output_type": "stream",
          "name": "stdout",
          "text": [
            " enter a traffic light colourblue\n",
            "That is not a traffic light color\n"
          ]
        }
      ]
    },
    {
      "cell_type": "markdown",
      "source": [
        "Exercise 9"
      ],
      "metadata": {
        "id": "OnXpZQTcR5oS"
      }
    },
    {
      "cell_type": "code",
      "source": [
        "def check_capital():\n",
        "  capital = input(\"what is the capital city of Scotland:\")\n",
        "  if capital ==\"Edinburgh\":\n",
        "   print(\"that they are correct, Edinburgh is the capital city\")\n",
        "  else:\n",
        "    print(\"No, Edinburgh is the capital city\")\n",
        "check_capital()"
      ],
      "metadata": {
        "id": "QNyvM65gR8gD",
        "outputId": "b0e4a239-88f8-49fe-d592-1fd6d92fcff0",
        "colab": {
          "base_uri": "https://localhost:8080/"
        }
      },
      "execution_count": 70,
      "outputs": [
        {
          "output_type": "stream",
          "name": "stdout",
          "text": [
            "what is the capital city of Scotland:London\n",
            "No, Edinburgh is the capital city\n"
          ]
        }
      ]
    },
    {
      "cell_type": "markdown",
      "source": [
        "Exercise 10"
      ],
      "metadata": {
        "id": "vPDjZEGcX27r"
      }
    },
    {
      "cell_type": "code",
      "source": [
        "def calculate():\n",
        "   num1 = float(input(\"enter first number:\"))\n",
        "   num2 = float(input(\"enter second number:\"))\n",
        "   operator = input(\"input operator(+,-,/,*)\")\n",
        "   if operator == \"+\":\n",
        "     print(\"Your answer is\",num1+num2)\n",
        "   if operator == \"-\":\n",
        "     print(\"Your answer is\",num1-num2)\n",
        "   if operator == \"/\":\n",
        "     print(\"Your answer is\",num1/num2)\n",
        "   if operator == \"*\":\n",
        "     print(\"Your answer is\",num1*num2)\n",
        "calculate()"
      ],
      "metadata": {
        "id": "Dude0wwXX8Tn",
        "outputId": "354e15fb-21a6-4c10-cb7f-c7b379ae698b",
        "colab": {
          "base_uri": "https://localhost:8080/"
        }
      },
      "execution_count": 74,
      "outputs": [
        {
          "output_type": "stream",
          "name": "stdout",
          "text": [
            "enter first number:8\n",
            "enter second number:10\n",
            "input operator(+,-,/,*)/\n",
            "Your answer is 0.8\n"
          ]
        }
      ]
    }
  ]
}
