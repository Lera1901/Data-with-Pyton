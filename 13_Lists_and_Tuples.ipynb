{
  "nbformat": 4,
  "nbformat_minor": 0,
  "metadata": {
    "colab": {
      "provenance": [],
      "authorship_tag": "ABX9TyMP+akTf/cwuWlKqrius0LN",
      "include_colab_link": true
    },
    "kernelspec": {
      "name": "python3",
      "display_name": "Python 3"
    },
    "language_info": {
      "name": "python"
    }
  },
  "cells": [
    {
      "cell_type": "markdown",
      "metadata": {
        "id": "view-in-github",
        "colab_type": "text"
      },
      "source": [
        "<a href=\"https://colab.research.google.com/github/Lera1901/Data-with-Pyton/blob/main/13_Lists_and_Tuples.ipynb\" target=\"_parent\"><img src=\"https://colab.research.google.com/assets/colab-badge.svg\" alt=\"Open In Colab\"/></a>"
      ]
    },
    {
      "cell_type": "code",
      "execution_count": 39,
      "metadata": {
        "id": "tyabg-VqNA9g"
      },
      "outputs": [],
      "source": [
        "from random import randint, choice\n",
        "\n",
        "def get_num_list():\n",
        "  num_list = [randint(1,100) for n in range(1000)]\n",
        "  return num_list\n",
        "\n",
        "def get_protected_characteristics():\n",
        "  characteristics_tuple = ('age','disability','gender reassignment','marriage and civil partnership','pregnancy and maternity','race','religion or belief','sex','sexual orientation')\n",
        "  return characteristics_tuple\n",
        "\n",
        "def get_protected_characteristic_list(protected_characteristics):\n",
        "  char_list = [choice(protected_characteristics) for ch in range(randint(1,5000))]\n",
        "  return char_list\n",
        "\n",
        "nums = get_num_list()\n",
        "protected_characteristics = get_protected_characteristics()\n",
        "characteristics = get_protected_characteristic_list(protected_characteristics)\n"
      ]
    },
    {
      "cell_type": "markdown",
      "source": [
        "Exercise 1"
      ],
      "metadata": {
        "id": "l6Y5cIDZPwdz"
      }
    },
    {
      "cell_type": "code",
      "source": [
        "def describe_list(nums):\n",
        "    print(\"Length of the list: \",len(nums))\n",
        "    print(\"First 10 items:\")\n",
        "    for item in nums[:10]:\n",
        "        print(item)\n",
        "    print(\"Last 5 items:\")\n",
        "    for item in nums[-5:]:\n",
        "        print(item)\n",
        "describe_list(nums)"
      ],
      "metadata": {
        "colab": {
          "base_uri": "https://localhost:8080/"
        },
        "id": "Sr23EmbRP269",
        "outputId": "9534e955-5d42-4125-c4d3-9b6cc42ac708"
      },
      "execution_count": null,
      "outputs": [
        {
          "output_type": "stream",
          "name": "stdout",
          "text": [
            "Length of the list: 1000\n",
            "First 10 items:\n",
            "27\n",
            "40\n",
            "11\n",
            "32\n",
            "3\n",
            "76\n",
            "90\n",
            "94\n",
            "30\n",
            "11\n",
            "Last 5 items:\n",
            "97\n",
            "83\n",
            "22\n",
            "82\n",
            "24\n"
          ]
        }
      ]
    },
    {
      "cell_type": "markdown",
      "source": [
        "Exercise2"
      ],
      "metadata": {
        "id": "kXk09DYtRM5u"
      }
    },
    {
      "cell_type": "code",
      "source": [
        "def get_protected_characteristics():\n",
        "  characteristics_tuple = ('age','disability','gender reassignment','marriage and civil partnership','pregnancy and maternity','race','religion or belief','sex','sexual orientation')\n",
        "  return characteristics_tuple\n",
        "protected_characteristics = get_protected_characteristics()\n",
        "print (protected_characteristics)"
      ],
      "metadata": {
        "colab": {
          "base_uri": "https://localhost:8080/"
        },
        "id": "Hvq9jm88RPTt",
        "outputId": "4298bf0f-8e2a-4fb9-f58c-fbde4b9efdb7"
      },
      "execution_count": null,
      "outputs": [
        {
          "output_type": "stream",
          "name": "stdout",
          "text": [
            "('age', 'disability', 'gender reassignment', 'marriage and civil partnership', 'pregnancy and maternity', 'race', 'religion or belief', 'sex', 'sexual orientation')\n"
          ]
        }
      ]
    },
    {
      "cell_type": "markdown",
      "source": [
        "Exercise 3"
      ],
      "metadata": {
        "id": "IypRzeB0SBF5"
      }
    },
    {
      "cell_type": "code",
      "source": [
        "def get_protected_characteristic_list(protected_characteristics):\n",
        "  m_pos=len(protected_characteristics)//2\n",
        "  before_m= m_pos-5\n",
        "  after_m= m_pos+5\n",
        "\n",
        "  print(\"Your list will include \",len(protected_characteristics), \"items.\")\n",
        "  print(\"Part of the list from 5 places before to 5 places after the middle item:\")\n",
        "  print(protected_characteristics [before_m:after_m])\n",
        "  return protected_characteristics\n",
        "\n",
        "get_protected_characteristic_list(protected_characteristics)"
      ],
      "metadata": {
        "colab": {
          "base_uri": "https://localhost:8080/"
        },
        "id": "wsOZqSfpSDBr",
        "outputId": "d70bf8a3-8b34-4d25-e2d9-229855a28324"
      },
      "execution_count": null,
      "outputs": [
        {
          "output_type": "stream",
          "name": "stdout",
          "text": [
            "Your list will include  9 items.\n",
            "Part of the list from 5 places before to 5 places after the middle item:\n",
            "('sexual orientation',)\n"
          ]
        },
        {
          "output_type": "execute_result",
          "data": {
            "text/plain": [
              "('age',\n",
              " 'disability',\n",
              " 'gender reassignment',\n",
              " 'marriage and civil partnership',\n",
              " 'pregnancy and maternity',\n",
              " 'race',\n",
              " 'religion or belief',\n",
              " 'sex',\n",
              " 'sexual orientation')"
            ]
          },
          "metadata": {},
          "execution_count": 33
        }
      ]
    },
    {
      "cell_type": "markdown",
      "source": [
        "Exercise 4"
      ],
      "metadata": {
        "id": "AExMrMekaT8e"
      }
    },
    {
      "cell_type": "code",
      "source": [
        "def new_lists(nums):\n",
        "    new_nums = []\n",
        "    for num in nums:\n",
        "        new_nums.append(num)\n",
        "    print(\"First 10 items of new_nums:\")\n",
        "    print(new_nums[:10])\n",
        "    print(\"First 10 items of nums:\")\n",
        "    print(nums[:10])\n",
        "    print(\"Length of new_nums:\" ,len(new_nums))\n",
        "    print(\"Length of nums: \",len(nums))\n",
        "new_lists(nums)\n"
      ],
      "metadata": {
        "colab": {
          "base_uri": "https://localhost:8080/"
        },
        "id": "lioDJwUFaWIs",
        "outputId": "c9cf5f6c-d99b-45b4-e1c1-244b3de45b4f"
      },
      "execution_count": null,
      "outputs": [
        {
          "output_type": "stream",
          "name": "stdout",
          "text": [
            "First 10 items of new_nums:\n",
            "[18, 85, 42, 6, 1, 95, 10, 26, 62, 99]\n",
            "First 10 items of nums:\n",
            "[18, 85, 42, 6, 1, 95, 10, 26, 62, 99]\n",
            "Length of new_nums: 1000\n",
            "Length of nums:  1000\n"
          ]
        }
      ]
    },
    {
      "cell_type": "markdown",
      "source": [
        "Exercise 5"
      ],
      "metadata": {
        "id": "XbpNJpjecVX0"
      }
    },
    {
      "cell_type": "code",
      "source": [
        "def list_n(protected_characteristics):\n",
        "  name_list = [choice(protected_characteristics) for ch in range(randint(1,5000))]\n",
        "  return name_list\n",
        "  item='age'\n",
        "  num_items = protected_characteristics.count(item)\n",
        "  #print(num_items)\n",
        "list_n(protected_characteristics)\n"
      ],
      "metadata": {
        "id": "463asVuUcXzC"
      },
      "execution_count": null,
      "outputs": []
    },
    {
      "cell_type": "markdown",
      "source": [
        "Exercise 6"
      ],
      "metadata": {
        "id": "wlXPzhKByt7z"
      }
    },
    {
      "cell_type": "code",
      "source": [
        "def num_list():\n",
        "    sort_nums=get_num_list()\n",
        "\n",
        "    print(\"First 20 items in sort_nums:\", sort_nums[:20])\n",
        "    print(\"Last 20 items in sort_nums:\", sort_nums[-20:])\n",
        "\n",
        "    sort_nums.sort()\n",
        "\n",
        "    print(\"First 20 items in sorted sort_nums (ascending):\", sort_nums[:20])\n",
        "    print(\"Last 20 items in sorted sort_nums (ascending):\", sort_nums[-20:])\n",
        "    sort_nums.sort(reverse=True)\n",
        "    print(\"First 20 items in sorted sort_nums (descending):\", sort_nums[:20])\n",
        "    print(\"Last 20 items in sorted sort_nums (descending):\", sort_nums[-20])\n",
        "\n",
        "num_list()\n",
        "\n",
        "\n",
        "\n",
        "\n"
      ],
      "metadata": {
        "colab": {
          "base_uri": "https://localhost:8080/"
        },
        "id": "3EzLmQb3ywIV",
        "outputId": "adf1094f-9ec3-44c2-d723-ef99af4b5d2e"
      },
      "execution_count": null,
      "outputs": [
        {
          "output_type": "stream",
          "name": "stdout",
          "text": [
            "First 20 items in sort_nums: [22, 83, 63, 67, 92, 87, 59, 1, 33, 23, 31, 54, 46, 82, 67, 50, 39, 42, 1, 5]\n",
            "Last 20 items in sort_nums: [96, 79, 94, 52, 55, 98, 38, 56, 39, 1, 52, 75, 15, 68, 45, 47, 4, 76, 23, 23]\n",
            "First 20 items in sorted sort_nums (ascending): [1, 1, 1, 1, 1, 1, 1, 1, 1, 1, 1, 2, 2, 2, 2, 2, 2, 2, 3, 3]\n",
            "Last 20 items in sorted sort_nums (ascending): [98, 99, 99, 99, 99, 99, 99, 100, 100, 100, 100, 100, 100, 100, 100, 100, 100, 100, 100, 100]\n",
            "First 20 items in sorted sort_nums (descending): [1, 1, 1, 1, 1, 1, 1, 1, 1, 1, 1, 2, 2, 2, 2, 2, 2, 2, 3, 3]\n",
            "Last 20 items in sorted sort_nums (descending): 98\n"
          ]
        }
      ]
    },
    {
      "cell_type": "markdown",
      "source": [
        "Exercise 7"
      ],
      "metadata": {
        "id": "xvC6jp25aE03"
      }
    },
    {
      "cell_type": "code",
      "source": [
        "def analyze_num(nums):\n",
        "    max_num = max(nums)\n",
        "    min_num = min(nums)\n",
        "    print(\"Maximum number: \", max_num)\n",
        "    print(\"Minimum number: \", min_num)\n",
        "    total = sum(nums)\n",
        "    print(\"Sum of the numbers: \",total)\n",
        "    average = total / len(nums)\n",
        "    print(\"Average of the numbers:\", average)\n",
        "analyze_num(nums)\n",
        "\n",
        "\n",
        "\n"
      ],
      "metadata": {
        "colab": {
          "base_uri": "https://localhost:8080/"
        },
        "id": "QfbkZyYDaHV_",
        "outputId": "44da19ca-41b0-4bd7-ab6f-2588b07fb8ee"
      },
      "execution_count": 6,
      "outputs": [
        {
          "output_type": "stream",
          "name": "stdout",
          "text": [
            "Maximum number:  100\n",
            "Minimum number:  1\n",
            "Sum of the numbers:  49290\n",
            "Average of the numbers: 49.29\n"
          ]
        }
      ]
    },
    {
      "cell_type": "markdown",
      "source": [
        "Exercise 8"
      ],
      "metadata": {
        "id": "C50raJuybwMk"
      }
    },
    {
      "cell_type": "code",
      "source": [
        "\n",
        "def calculate_percentage(nums, ex8_nums):\n",
        "    ex8_nums = get_num_list()\n",
        "\n",
        "    percentage_first = ((ex8_nums[0] - nums[0]) / nums[0]) * 100\n",
        "    percentage_last = ((ex8_nums[-1] - nums[-1]) / nums[-1]) * 100\n",
        "\n",
        "    if len(nums) % 2 == 0:\n",
        "        middle_index = len(nums) // 2\n",
        "    else:\n",
        "        middle_index = len(nums) // 2 + 1\n",
        "    percentage_middle = ((ex8_nums[middle_index] - nums[middle_index]) / nums[middle_index]) * 100\n",
        "\n",
        "    sum_difference = ((sum(ex8_nums) - sum(nums)) / sum(nums)) * 100\n",
        "\n",
        "    print(\"Percentage difference between the first numbers: \",percentage_first,\"%\")\n",
        "    print(\"Percentage difference between the last numbers: \",percentage_last,\"%\")\n",
        "    print(\"Percentage difference between the middle numbers: \",percentage_middle,\"%\")\n",
        "    print(\"Percentage difference between the sums: \",sum_difference,\"%\")\n",
        "\n",
        "calculate_percentage(nums, ex8_nums)"
      ],
      "metadata": {
        "colab": {
          "base_uri": "https://localhost:8080/"
        },
        "id": "Su4hJzQWbynw",
        "outputId": "49e9bc88-a981-4c40-ab32-e30f6619c2b6"
      },
      "execution_count": 21,
      "outputs": [
        {
          "output_type": "stream",
          "name": "stdout",
          "text": [
            "Percentage difference between the first numbers:  -68.68686868686868 %\n",
            "Percentage difference between the last numbers:  -1.25 %\n",
            "Percentage difference between the middle numbers:  375.0 %\n",
            "Percentage difference between the sums:  -1.1645364171231487 %\n"
          ]
        }
      ]
    },
    {
      "cell_type": "markdown",
      "source": [
        "Exercise 9"
      ],
      "metadata": {
        "id": "84pu_Qx5fjEy"
      }
    },
    {
      "cell_type": "code",
      "source": [
        "def count_protected_characteristics(protected_characteristics, characteristics):\n",
        "\n",
        "    counts = {char: characteristics.count(char) for char in protected_characteristics}\n",
        "\n",
        "    max_len = max(len(char) for char in protected_characteristics)\n",
        "\n",
        "    for char in protected_characteristics:\n",
        "        count = counts[char]\n",
        "        print(char.ljust(max_len), count)\n",
        "count_protected_characteristics(protected_characteristics, characteristics)"
      ],
      "metadata": {
        "colab": {
          "base_uri": "https://localhost:8080/"
        },
        "id": "MR6ASwo6oxK0",
        "outputId": "0adf260f-381f-4282-e13e-b0712cb24c55"
      },
      "execution_count": 44,
      "outputs": [
        {
          "output_type": "stream",
          "name": "stdout",
          "text": [
            "age                            61\n",
            "disability                     61\n",
            "gender reassignment            56\n",
            "marriage and civil partnership 67\n",
            "pregnancy and maternity        42\n",
            "race                           77\n",
            "religion or belief             56\n",
            "sex                            65\n",
            "sexual orientation             55\n"
          ]
        }
      ]
    },
    {
      "cell_type": "markdown",
      "source": [
        "Exercise 10"
      ],
      "metadata": {
        "id": "YLUjvz-lpzE9"
      }
    },
    {
      "cell_type": "code",
      "source": [
        "def analyze_court_cases(protected_characteristics, characteristics):\n",
        "\n",
        "    protected_characteristics_str = \", \".join(protected_characteristics)\n",
        "    print(\"List of protected characteristics:\", protected_characteristics_str)\n",
        "\n",
        "    while True:\n",
        "        user_input = input(\"Enter a characteristic to see statistics (or 'exit' to quit): \")\n",
        "        if user_input == 'exit':\n",
        "            break\n",
        "        if user_input in protected_characteristics:\n",
        "            char_count = characteristics.count(user_input)\n",
        "            char_percentage = char_count / len(characteristics) * 100\n",
        "            print(f\"{user_input}: {char_count} ({char_percentage:.2f}%) of the population\")\n",
        "        else:\n",
        "            print(\"Invalid characteristic. Please enter a valid protected characteristic.\")\n",
        "\n",
        "analyze_court_cases(protected_characteristics, characteristics)"
      ],
      "metadata": {
        "colab": {
          "base_uri": "https://localhost:8080/"
        },
        "id": "_hP39-y7p1QF",
        "outputId": "9c725119-b314-48c8-8171-db4edc79e7e1"
      },
      "execution_count": 54,
      "outputs": [
        {
          "name": "stdout",
          "output_type": "stream",
          "text": [
            "List of protected characteristics: age, disability, gender reassignment, marriage and civil partnership, pregnancy and maternity, race, religion or belief, sex, sexual orientation\n",
            "Enter a characteristic to see statistics (or 'exit' to quit): age\n",
            "age: 61 (11.30%) of the population\n",
            "Enter a characteristic to see statistics (or 'exit' to quit): sex\n",
            "sex: 65 (12.04%) of the population\n",
            "Enter a characteristic to see statistics (or 'exit' to quit): exit\n"
          ]
        }
      ]
    }
  ]
}